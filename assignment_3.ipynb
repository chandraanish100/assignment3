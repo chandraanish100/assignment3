{
 "cells": [
  {
   "cell_type": "code",
   "execution_count": 3,
   "id": "f31aa8f8-82ce-46dd-a7b5-437962970125",
   "metadata": {},
   "outputs": [
    {
     "name": "stdout",
     "output_type": "stream",
     "text": [
      "[1, 2, 3, 4, 5, 6, 7, 8, 9, 10]\n"
     ]
    }
   ],
   "source": [
    "x=[]\n",
    "for i in range(1,11):\n",
    "    x.append(i)\n",
    "print(x)"
   ]
  },
  {
   "cell_type": "code",
   "execution_count": 5,
   "id": "d04094fb-90bd-48dc-a633-dd9e2802fd4c",
   "metadata": {},
   "outputs": [
    {
     "data": {
      "text/plain": [
       "[1, 2, 3, 4, 5, 6, 7, 8, 9]"
      ]
     },
     "execution_count": 5,
     "metadata": {},
     "output_type": "execute_result"
    }
   ],
   "source": [
    "Func=[i for i in range(1,10)]\n",
    "Func"
   ]
  },
  {
   "cell_type": "code",
   "execution_count": 7,
   "id": "a72cad55-0a3e-43ee-8b1b-7faf88627979",
   "metadata": {},
   "outputs": [
    {
     "name": "stdout",
     "output_type": "stream",
     "text": [
      "35\n"
     ]
    }
   ],
   "source": [
    "l=[5,6,4,7,8,2,3]\n",
    "\n",
    "x=sum(i for i in l)\n",
    "print(x)"
   ]
  },
  {
   "cell_type": "code",
   "execution_count": 9,
   "id": "bbf77cb3-722e-4355-8149-f727ea1b2b4c",
   "metadata": {},
   "outputs": [
    {
     "name": "stdout",
     "output_type": "stream",
     "text": [
      "35\n"
     ]
    }
   ],
   "source": [
    "l=[5,6,4,7,8,2,3]\n",
    "x=0\n",
    "for i in l:\n",
    "    x=x+i\n",
    "print(x)    "
   ]
  },
  {
   "cell_type": "code",
   "execution_count": 12,
   "id": "106c37a0-38b1-4353-94fc-ae1774777277",
   "metadata": {},
   "outputs": [
    {
     "name": "stdout",
     "output_type": "stream",
     "text": [
      "hsinA\n"
     ]
    }
   ],
   "source": [
    "x=\"Anish\"\n",
    "y=\"\"\n",
    "for i in reversed(x):\n",
    "    y=y+i\n",
    "print(y)\n",
    "   "
   ]
  },
  {
   "cell_type": "code",
   "execution_count": 20,
   "id": "b70820cc-4104-4220-bbe6-10dc148a06b9",
   "metadata": {},
   "outputs": [
    {
     "name": "stdout",
     "output_type": "stream",
     "text": [
      "2432902008176640000\n"
     ]
    }
   ],
   "source": [
    "x=20\n",
    "y=1\n",
    "for i in range(1,x+1):\n",
    "    if x==0 or x<0:\n",
    "        print(\"No Factorial\")\n",
    "    elif x>0:\n",
    "        y=y*i\n",
    "print(y)\n",
    "        \n",
    "    "
   ]
  },
  {
   "cell_type": "code",
   "execution_count": 24,
   "id": "834e0c61-0437-4344-921c-42733f215d0b",
   "metadata": {},
   "outputs": [
    {
     "name": "stdin",
     "output_type": "stream",
     "text": [
      "Enter A Number:  5\n",
      "Enter the range:  9\n"
     ]
    },
    {
     "name": "stdout",
     "output_type": "stream",
     "text": [
      "5 x 1 = 5\n",
      "5 x 2 = 10\n",
      "5 x 3 = 15\n",
      "5 x 4 = 20\n",
      "5 x 5 = 25\n",
      "5 x 6 = 30\n",
      "5 x 7 = 35\n",
      "5 x 8 = 40\n",
      "5 x 9 = 45\n"
     ]
    }
   ],
   "source": [
    "x=int(input(\"Enter A Number: \"))\n",
    "x1=int(input(\"Enter the range: \"))\n",
    "z=0\n",
    "y=[]\n",
    "for i in range(1,x1+1):\n",
    "    z=x*i\n",
    "    print(f\"{x} x {i} = {z}\")\n",
    "    "
   ]
  },
  {
   "cell_type": "code",
   "execution_count": 27,
   "id": "25b0c372-79de-4c1d-8386-1d9d0f4d22d2",
   "metadata": {},
   "outputs": [
    {
     "name": "stdout",
     "output_type": "stream",
     "text": [
      "7 5\n"
     ]
    }
   ],
   "source": [
    "x=[5,6,7,8,1,12,4,55,48,6,9,78]\n",
    "even_count=0\n",
    "odd_count=0\n",
    "\n",
    "for i in x:\n",
    "    if i%2==0:\n",
    "        even_count+=1\n",
    "    else:\n",
    "        odd_count+=1\n",
    "        \n",
    "print(even_count,odd_count)     "
   ]
  },
  {
   "cell_type": "code",
   "execution_count": 28,
   "id": "9f4f9e2c-17be-4654-b921-64ee3bd2b137",
   "metadata": {},
   "outputs": [
    {
     "name": "stdout",
     "output_type": "stream",
     "text": [
      "[1, 4, 9, 16, 25]\n"
     ]
    }
   ],
   "source": [
    "x=[]\n",
    "y=[]\n",
    "for i in range (1,6):\n",
    "    x=i**2\n",
    "    y.append(x)\n",
    "print(y)\n",
    "    "
   ]
  },
  {
   "cell_type": "code",
   "execution_count": 29,
   "id": "73137a06-cde2-4b15-90b0-4457cde73543",
   "metadata": {},
   "outputs": [
    {
     "name": "stdin",
     "output_type": "stream",
     "text": [
      "Enter a string:  Anish\n"
     ]
    },
    {
     "name": "stdout",
     "output_type": "stream",
     "text": [
      "5\n"
     ]
    }
   ],
   "source": [
    "S=input(\"Enter a string: \")\n",
    "y=S.lower()\n",
    "count=0\n",
    "for i in y:\n",
    "    count=count+1\n",
    "print(count)"
   ]
  },
  {
   "cell_type": "code",
   "execution_count": 30,
   "id": "a790ae3d-539c-45f0-bf60-018819b48d7c",
   "metadata": {},
   "outputs": [
    {
     "name": "stdout",
     "output_type": "stream",
     "text": [
      "Average: 30.0\n"
     ]
    }
   ],
   "source": [
    "numbers = [10, 20, 30, 40, 50]\n",
    "total = 0\n",
    "count = 0\n",
    "for number in numbers:\n",
    "    total += number\n",
    "    count += 1 \n",
    "if count > 0:\n",
    "    average = total / count\n",
    "else:\n",
    "    average = 0\n",
    "print(\"Average:\", average)"
   ]
  },
  {
   "cell_type": "code",
   "execution_count": 32,
   "id": "e3c8ba19-7008-4dec-8645-ca7425fb9298",
   "metadata": {},
   "outputs": [
    {
     "name": "stdout",
     "output_type": "stream",
     "text": [
      "[0, 1, 1, 2, 3]\n"
     ]
    }
   ],
   "source": [
    "n=5\n",
    "a=0\n",
    "b=1\n",
    "x=[]\n",
    "if n==1:\n",
    "    print(a)\n",
    "else :\n",
    "    x.append(a)\n",
    "    x.append(b)\n",
    "    for i in range (2,n):\n",
    "        c=a+b\n",
    "        a=b\n",
    "        b=c\n",
    "        x.append(c)   \n",
    "print(x)"
   ]
  },
  {
   "cell_type": "code",
   "execution_count": 9,
   "id": "a1bf4d9c-2ab7-47c1-b35f-1e2b16d4b4a9",
   "metadata": {},
   "outputs": [
    {
     "name": "stdout",
     "output_type": "stream",
     "text": [
      "The list does not contain duplicates.\n"
     ]
    }
   ],
   "source": [
    "def has_duplicates(input_list):\n",
    "    for i in range(len(input_list)):\n",
    "        for j in range(i + 1, len(input_list)):\n",
    "            if input_list[i] == input_list[j]:\n",
    "                return True\n",
    "    return False\n",
    "\n",
    "my_list = [1, 2, 3, 4, 5,1]\n",
    "if has_duplicates(my_list):\n",
    "    print(\"The list contains duplicates.\")\n",
    "else:\n",
    "    print(\"The list does not contain duplicates.\")"
   ]
  },
  {
   "cell_type": "code",
   "execution_count": 10,
   "id": "939febb8-0a32-46f8-a241-2a2ad74eaa49",
   "metadata": {},
   "outputs": [
    {
     "ename": "SyntaxError",
     "evalue": "incomplete input (311683789.py, line 3)",
     "output_type": "error",
     "traceback": [
      "\u001b[0;36m  Cell \u001b[0;32mIn[10], line 3\u001b[0;36m\u001b[0m\n\u001b[0;31m    \u001b[0m\n\u001b[0m    ^\u001b[0m\n\u001b[0;31mSyntaxError\u001b[0m\u001b[0;31m:\u001b[0m incomplete input\n"
     ]
    }
   ],
   "source": [
    "for i in range(2,11):\n",
    "    \n",
    "   \n"
   ]
  },
  {
   "cell_type": "code",
   "execution_count": 13,
   "id": "cf69e3ac-3cbe-494a-8d85-610dd0f96903",
   "metadata": {},
   "outputs": [
    {
     "name": "stdin",
     "output_type": "stream",
     "text": [
      "Enter A sentence anish\n"
     ]
    },
    {
     "name": "stdout",
     "output_type": "stream",
     "text": [
      "2\n",
      "3\n"
     ]
    }
   ],
   "source": [
    "x= input(\"Enter A sentence\")\n",
    "x.lower()\n",
    "vowels=0\n",
    "consonants=0\n",
    "for i in x :\n",
    "    if(i =='a' or i =='e' or i =='i' or i =='o' or i =='u'):\n",
    "        vowels=vowels+1\n",
    "    else:\n",
    "        consonants=consonants+1\n",
    "        \n",
    "print(vowels)\n",
    "print(consonants)\n"
   ]
  },
  {
   "cell_type": "code",
   "execution_count": 15,
   "id": "372ad0cd-e30a-4bc3-b4a2-f128c3fc183c",
   "metadata": {},
   "outputs": [
    {
     "name": "stdout",
     "output_type": "stream",
     "text": [
      "[5, 6, 7, 9, 12, 4, 2, 8]\n"
     ]
    }
   ],
   "source": [
    "x=[5,6,7,9,10,12,4,2,8]\n",
    "y=10\n",
    "z=[]\n",
    "for i in x:\n",
    "    if i!=y:\n",
    "        z.append(i)\n",
    "print(z)\n",
    "        \n",
    "    \n",
    "\n",
    "\n",
    "   "
   ]
  },
  {
   "cell_type": "code",
   "execution_count": 17,
   "id": "621804ff-6226-4c4a-a366-8bc1d7961c7d",
   "metadata": {},
   "outputs": [
    {
     "name": "stdin",
     "output_type": "stream",
     "text": [
      "Enter the range:  5\n"
     ]
    },
    {
     "name": "stdout",
     "output_type": "stream",
     "text": [
      "1 x 1 = 1\n",
      "1 x 2 = 2\n",
      "1 x 3 = 3\n",
      "1 x 4 = 4\n",
      "1 x 5 = 5\n",
      "2 x 1 = 2\n",
      "2 x 2 = 4\n",
      "2 x 3 = 6\n",
      "2 x 4 = 8\n",
      "2 x 5 = 10\n",
      "3 x 1 = 3\n",
      "3 x 2 = 6\n",
      "3 x 3 = 9\n",
      "3 x 4 = 12\n",
      "3 x 5 = 15\n",
      "4 x 1 = 4\n",
      "4 x 2 = 8\n",
      "4 x 3 = 12\n",
      "4 x 4 = 16\n",
      "4 x 5 = 20\n"
     ]
    }
   ],
   "source": [
    "x1=int(input(\"Enter the range: \"))\n",
    "z=0\n",
    "y=[]\n",
    "for i in range(1,5):\n",
    "    \n",
    "    for j in range(1,x1+1):\n",
    "        z=i*j\n",
    "        print(f\"{i} x {j} = {z}\")\n",
    "    "
   ]
  },
  {
   "cell_type": "code",
   "execution_count": 21,
   "id": "dfc386fc-1e29-456b-aa01-f16825c416d3",
   "metadata": {},
   "outputs": [
    {
     "name": "stdout",
     "output_type": "stream",
     "text": [
      "[12.777777777777779, 7.222222222222222, 31.666666666666668, -8.88888888888889, -2.2222222222222223, 11.666666666666668, 8.333333333333334]\n"
     ]
    }
   ],
   "source": [
    "x=[55,45,89,16,28,53,47]\n",
    "y=0\n",
    "z=[]\n",
    "for i in x:\n",
    "    y=(i-32)*(5/9)\n",
    "    z.append(y)\n",
    "print(z)"
   ]
  },
  {
   "cell_type": "code",
   "execution_count": 3,
   "id": "5a4e699a-3bf5-4673-b98f-f5d7770776ec",
   "metadata": {},
   "outputs": [
    {
     "name": "stdout",
     "output_type": "stream",
     "text": [
      "Common elements:  [3, 4, 5]\n"
     ]
    }
   ],
   "source": [
    "list1 = [1, 2, 3, 4, 5]\n",
    "list2 = [3, 4, 5, 6, 7]\n",
    "common_elements=[]\n",
    "for element1 in list1:\n",
    "        for element2 in list2:\n",
    "            if element1 == element2:\n",
    "                common_elements.append(element1)\n",
    "if common_elements:\n",
    "    print(\"Common elements: \", common_elements)\n",
    "else:\n",
    "    print(\"There are no common elements.\")"
   ]
  },
  {
   "cell_type": "code",
   "execution_count": 5,
   "id": "2152f2d7-beec-4c83-929d-95360b3b53b4",
   "metadata": {},
   "outputs": [
    {
     "name": "stdout",
     "output_type": "stream",
     "text": [
      "* \n",
      "* * \n",
      "* * * \n",
      "* * * * \n",
      "* * * * * \n"
     ]
    }
   ],
   "source": [
    "for i in range(0,5):\n",
    "        for j in range(0,i):\n",
    "            print(\"*\", end=\" \")\n",
    "        print(\"* \")"
   ]
  },
  {
   "cell_type": "code",
   "execution_count": 5,
   "id": "6e62da5e-173f-4db7-96ac-ce2960bce5aa",
   "metadata": {},
   "outputs": [
    {
     "name": "stdin",
     "output_type": "stream",
     "text": [
      "Enter a number:  5\n",
      "Enter a number:  25\n"
     ]
    },
    {
     "name": "stdout",
     "output_type": "stream",
     "text": [
      "5\n"
     ]
    }
   ],
   "source": [
    "x=int(input(\"Enter a number: \"))\n",
    "y=int(input(\"Enter a number: \"))\n",
    "def gcd(x,y):\n",
    "   gcd = 1   \n",
    "   if x % y == 0:\n",
    "       return y   \n",
    "   for k in range(int(y / 2), 0, -1):\n",
    "       if x % k == 0 and y % k == 0:\n",
    "           gcd = k\n",
    "           break \n",
    "   return gcd\n",
    "print(gcd(x,y))"
   ]
  },
  {
   "cell_type": "code",
   "execution_count": 6,
   "id": "a0293726-8bc9-4df2-9944-d4ea681f4c39",
   "metadata": {},
   "outputs": [
    {
     "name": "stdout",
     "output_type": "stream",
     "text": [
      "[2, 10, 18, 8, 20]\n"
     ]
    }
   ],
   "source": [
    "x1=[1,5,9,4,10]\n",
    "y=[x+x for x in x1]\n",
    "print(y)"
   ]
  },
  {
   "cell_type": "code",
   "execution_count": 7,
   "id": "7a339cbe-e944-4f76-acf7-9b7298af5b8a",
   "metadata": {},
   "outputs": [
    {
     "name": "stdin",
     "output_type": "stream",
     "text": [
      " Please Enter any Number:  6\n"
     ]
    },
    {
     "name": "stdout",
     "output_type": "stream",
     "text": [
      " 2 is a Prime Factor of a Given Number 6\n",
      " 3 is a Prime Factor of a Given Number 6\n"
     ]
    }
   ],
   "source": [
    "Number = int(input(\" Please Enter any Number: \"))\n",
    "\n",
    "for i in range(2, Number + 1):\n",
    "    if(Number % i == 0):\n",
    "        isprime = 1\n",
    "        for j in range(2, (i //2 + 1)):\n",
    "            if(i % j == 0):\n",
    "                isprime = 0\n",
    "                break\n",
    "            \n",
    "        if (isprime == 1):\n",
    "            print(\" %d is a Prime Factor of a Given Number %d\" %(i, Number))"
   ]
  },
  {
   "cell_type": "code",
   "execution_count": 22,
   "id": "ca5d7743-6c08-44ce-bcc0-ca50c5845526",
   "metadata": {},
   "outputs": [
    {
     "name": "stdout",
     "output_type": "stream",
     "text": [
      "[1, 4, 5, 6, 8, 9]\n"
     ]
    }
   ],
   "source": [
    "x2=[5,6,1,4,5,4,9,8,9,6]\n",
    "x=[]\n",
    "for i in x2:\n",
    "    x.append(i)\n",
    "y=set(x)\n",
    "print(list(y))"
   ]
  },
  {
   "cell_type": "code",
   "execution_count": 23,
   "id": "6705dfc3-e816-462e-a4ec-facf5ef6e2f1",
   "metadata": {},
   "outputs": [
    {
     "name": "stdout",
     "output_type": "stream",
     "text": [
      "Original List: [1, 2, 2, 3, 4, 4, 5, 6, 6, 7]\n",
      "Unique List: [1, 3, 5, 7]\n"
     ]
    }
   ],
   "source": [
    "original_list = [1, 2, 2, 3, 4, 4, 5, 6, 6, 7]\n",
    "unique_list = [x for x in original_list if original_list.count(x) == 1]\n",
    "print(\"Original List:\", original_list)\n",
    "print(\"Unique List:\", unique_list)"
   ]
  },
  {
   "cell_type": "code",
   "execution_count": 10,
   "id": "0a13b432-f3d4-4b5e-b10e-58897968b8e3",
   "metadata": {},
   "outputs": [
    {
     "name": "stdout",
     "output_type": "stream",
     "text": [
      "191\n",
      "292\n",
      "393\n",
      "494\n",
      "595\n",
      "696\n",
      "797\n",
      "898\n",
      "999\n"
     ]
    }
   ],
   "source": [
    "#x=int(input(\"Enter The Range: \"))\n",
    "z=0\n",
    "for i in range(1,10):\n",
    "    for j in range(0,10):\n",
    "         z=int(\"%d%d%d\" % (i,j,i))\n",
    "    print(z)"
   ]
  },
  {
   "cell_type": "code",
   "execution_count": 16,
   "id": "3b5cf77c-2403-48de-939e-e041e914ae9b",
   "metadata": {},
   "outputs": [
    {
     "name": "stdout",
     "output_type": "stream",
     "text": [
      "[11, 22, 33, 44, 55, 66, 77, 88, 99, 100]\n"
     ]
    }
   ],
   "source": [
    "lis=[[11, 22, 33, 44], [55, 66, 77], [88, 99, 100]]\n",
    "flatList = []\n",
    "for element in lis:\n",
    "    if type(element) is list:\n",
    "        for item in element:\n",
    "            flatList.append(item)\n",
    "    else:\n",
    "        flatList.append(element)\n",
    "print(flatList)"
   ]
  },
  {
   "cell_type": "code",
   "execution_count": 21,
   "id": "5670f726-c271-4ab3-bf71-dfad12f18ae0",
   "metadata": {},
   "outputs": [
    {
     "name": "stdout",
     "output_type": "stream",
     "text": [
      "72\n",
      "114\n"
     ]
    }
   ],
   "source": [
    "lis=[5,6,7,8,10,12,9,11,17,36,65]\n",
    "y=[]\n",
    "z=[]\n",
    "for i in lis:\n",
    "    if i%2==0:\n",
    "        y.append(i)\n",
    "    else:\n",
    "        z.append(i)\n",
    "print(sum(y))\n",
    "print(sum(z))\n",
    "        "
   ]
  },
  {
   "cell_type": "code",
   "execution_count": 27,
   "id": "a22ccc97-d43b-45b3-b08d-d64fab254b64",
   "metadata": {},
   "outputs": [
    {
     "name": "stdout",
     "output_type": "stream",
     "text": [
      "[1, 9, 25, 49, 81]\n"
     ]
    }
   ],
   "source": [
    "x=[]\n",
    "y=0\n",
    "for i in range(1,10):\n",
    "    if i%2!=0:\n",
    "        y=i**2\n",
    "        x.append(y)\n",
    "print(x)"
   ]
  },
  {
   "cell_type": "code",
   "execution_count": 28,
   "id": "189e1b9d-529c-456c-8fc4-ca0ba7fea08d",
   "metadata": {},
   "outputs": [
    {
     "name": "stdout",
     "output_type": "stream",
     "text": [
      "{'name': 'Anish', 'age': 26, 'city': 'Delhi'}\n"
     ]
    }
   ],
   "source": [
    "keys = [\"name\", \"age\", \"city\"]\n",
    "values = [\"Anish\", 26, \"Delhi\"]\n",
    "result_dict = {keys[i]: values[i] for i in range(len(keys))}\n",
    "print(result_dict)"
   ]
  },
  {
   "cell_type": "code",
   "execution_count": 33,
   "id": "dcdcf6b9-c770-4733-ac0c-0fd32afb50cc",
   "metadata": {},
   "outputs": [
    {
     "name": "stdin",
     "output_type": "stream",
     "text": [
      "Enter A String:  anish\n"
     ]
    },
    {
     "name": "stdout",
     "output_type": "stream",
     "text": [
      "['a', 'i']\n"
     ]
    }
   ],
   "source": [
    "x= input(\"Enter A String: \")\n",
    "y=x.lower()\n",
    "vowels=[]\n",
    "for i in y :\n",
    "    if(i =='a' or i =='e' or i =='i' or i =='o' or i =='u'):\n",
    "        vowels.append(i)\n",
    "print(vowels)\n"
   ]
  },
  {
   "cell_type": "code",
   "execution_count": 1,
   "id": "e3a456dc-9291-4858-b347-8fdc026d829e",
   "metadata": {},
   "outputs": [
    {
     "name": "stdout",
     "output_type": "stream",
     "text": [
      "['123', '456', '789', '214']\n"
     ]
    }
   ],
   "source": [
    "strings = [\"abc123\", \"456def\", \"789ghi\", \"jklmno214\"]\n",
    "result_list = [''.join(char for char in s if char.isdigit()) for s in strings]\n",
    "print(result_list)\n"
   ]
  },
  {
   "cell_type": "code",
   "execution_count": 35,
   "id": "d4cb22fe-a91b-4b9b-9317-df27b51a3a7c",
   "metadata": {},
   "outputs": [
    {
     "name": "stdin",
     "output_type": "stream",
     "text": [
      "Enter the upper limit for prime numbers:  10\n"
     ]
    },
    {
     "name": "stdout",
     "output_type": "stream",
     "text": [
      "Prime numbers up to 10 are:\n",
      "[2, 3, 5, 7]\n"
     ]
    }
   ],
   "source": [
    "limit = int(input(\"Enter the upper limit for prime numbers: \"))\n",
    "is_prime = [True] * (limit + 1)\n",
    "is_prime[0] = is_prime[1] = False\n",
    "for num in range(2, int(limit**0.5) + 1):\n",
    "    if is_prime[num]:\n",
    "        for multiple in range(num*num, limit + 1, num):\n",
    "            is_prime[multiple] = False\n",
    "prime_numbers = [num for num in range(2, limit + 1) if is_prime[num]]\n",
    "print(\"Prime numbers up to\", limit, \"are:\")\n",
    "print(prime_numbers)"
   ]
  },
  {
   "cell_type": "code",
   "execution_count": 36,
   "id": "d456b42c-49ba-4ba0-8549-ca5a3ef1dddc",
   "metadata": {},
   "outputs": [
    {
     "name": "stdin",
     "output_type": "stream",
     "text": [
      "Enter the upper limit for Pythagorean triplets:  10\n"
     ]
    },
    {
     "name": "stdout",
     "output_type": "stream",
     "text": [
      "Pythagorean triplets up to 10 are:\n",
      "(3, 4, 5)\n",
      "(6, 8, 10)\n"
     ]
    }
   ],
   "source": [
    "limit = int(input(\"Enter the upper limit for Pythagorean triplets: \"))\n",
    "triplets = [(a, b, c) for a in range(1, limit + 1) for b in range(a, limit + 1) for c in range(b, limit + 1) if a**2 + b**2 == c**2]\n",
    "print(\"Pythagorean triplets up to\", limit, \"are:\")\n",
    "for triplet in triplets:\n",
    "    print(triplet)"
   ]
  },
  {
   "cell_type": "code",
   "execution_count": 45,
   "id": "85449137-b48e-4f97-a0ce-304dab4023be",
   "metadata": {},
   "outputs": [
    {
     "name": "stdout",
     "output_type": "stream",
     "text": [
      "1 A\n",
      "1 B\n",
      "1 C\n",
      "2 A\n",
      "2 B\n",
      "2 C\n",
      "3 A\n",
      "3 B\n",
      "3 C\n"
     ]
    }
   ],
   "source": [
    "list1=[1,2,3]\n",
    "list2=[\"A\",\"B\",\"C\"]\n",
    "z=0\n",
    "for x in list1:\n",
    "    for y in list2:\n",
    "        \n",
    "        print(x,y)"
   ]
  },
  {
   "cell_type": "code",
   "execution_count": 5,
   "id": "b8e3aa95-35ca-4002-aedd-73b8567f5eb0",
   "metadata": {},
   "outputs": [
    {
     "name": "stdin",
     "output_type": "stream",
     "text": [
      "Enter a list of numbers separated by spaces:  12 45 25 85 47 120\n"
     ]
    },
    {
     "name": "stdout",
     "output_type": "stream",
     "text": [
      "Mean: 55.666666666666664\n",
      "Median: 46.0\n",
      "Mode: [12.0, 45.0, 25.0, 85.0, 47.0, 120.0]\n"
     ]
    }
   ],
   "source": [
    "numbers = [float(x) for x in input(\"Enter a list of numbers separated by spaces: \").split()]\n",
    "mean = sum(numbers) / len(numbers)\n",
    "sorted_numbers = sorted(numbers)\n",
    "n = len(numbers)\n",
    "median = (sorted_numbers[n // 2] + sorted_numbers[(n - 1) // 2]) / 2\n",
    "counts = {num: numbers.count(num) for num in numbers}\n",
    "max_count = max(counts.values())\n",
    "mode = [num for num, count in counts.items() if count == max_count]\n",
    "\n",
    "print(f\"Mean: {mean}\")\n",
    "print(f\"Median: {median}\")\n",
    "print(f\"Mode: {mode}\")"
   ]
  },
  {
   "cell_type": "code",
   "execution_count": 7,
   "id": "b69b0dbe-39ca-48c1-b79f-3602cf19c1af",
   "metadata": {},
   "outputs": [
    {
     "name": "stdin",
     "output_type": "stream",
     "text": [
      "Enter the number of rows for Pascal's triangle:  10\n"
     ]
    },
    {
     "name": "stdout",
     "output_type": "stream",
     "text": [
      "                                       1                                        \n",
      "                                      1 1                                       \n",
      "                                     1 2 1                                      \n",
      "                                    1 3 3 1                                     \n",
      "                                   1 4 6 4 1                                    \n",
      "                                 1 5 10 10 5 1                                  \n",
      "                                1 6 15 20 15 6 1                                \n",
      "                              1 7 21 35 35 21 7 1                               \n",
      "                             1 8 28 56 70 56 28 8 1                             \n",
      "                          1 9 36 84 126 126 84 36 9 1                           \n"
     ]
    }
   ],
   "source": [
    "def generate_pascals_triangle(rows):\n",
    "    triangle = []\n",
    "    for i in range(rows):\n",
    "        if i == 0:\n",
    "            triangle.append([1])\n",
    "        else:\n",
    "            previous_row = triangle[-1]\n",
    "            new_row = [1]\n",
    "            for j in range(1, i):\n",
    "                new_element = previous_row[j - 1] + previous_row[j]\n",
    "                new_row.append(new_element)\n",
    "            new_row.append(1)\n",
    "            triangle.append(new_row)\n",
    "    return triangle\n",
    "num_rows = int(input(\"Enter the number of rows for Pascal's triangle: \"))\n",
    "pascals_triangle = generate_pascals_triangle(num_rows)\n",
    "for row in pascals_triangle:\n",
    "    print(' '.join(map(str, row)).center(80))"
   ]
  },
  {
   "cell_type": "code",
   "execution_count": 8,
   "id": "c1efb5c2-96db-446e-abdb-6cbfd75e36be",
   "metadata": {},
   "outputs": [
    {
     "name": "stdout",
     "output_type": "stream",
     "text": [
      "Factorial of 1 is 1 and the sum of its digits is 1\n",
      "Factorial of 2 is 2 and the sum of its digits is 2\n",
      "Factorial of 3 is 6 and the sum of its digits is 6\n",
      "Factorial of 4 is 24 and the sum of its digits is 6\n",
      "Factorial of 5 is 120 and the sum of its digits is 3\n"
     ]
    }
   ],
   "source": [
    "def factorial(n):\n",
    "    if n == 0:\n",
    "        return 1\n",
    "    else:\n",
    "        return n * factorial(n - 1)\n",
    "\n",
    "results = [(n, factorial(n), sum(int(digit) for digit in str(factorial(n)))) for n in range(1, 6)]\n",
    "\n",
    "for n, fact, digit_sum in results:\n",
    "    print(f\"Factorial of {n} is {fact} and the sum of its digits is {digit_sum}\")"
   ]
  },
  {
   "cell_type": "code",
   "execution_count": 9,
   "id": "19f54dae-0d17-4c78-a812-d827b4c61a75",
   "metadata": {},
   "outputs": [
    {
     "name": "stdin",
     "output_type": "stream",
     "text": [
      "Enter a sentence:  Anish Chandra\n"
     ]
    },
    {
     "name": "stdout",
     "output_type": "stream",
     "text": [
      "The longest word in the sentence is: Chandra\n"
     ]
    }
   ],
   "source": [
    "sentence = input(\"Enter a sentence: \")\n",
    "words = sentence.split()\n",
    "longest_word = max(words, key=lambda word: len(word))\n",
    "print(\"The longest word in the sentence is:\", longest_word)"
   ]
  },
  {
   "cell_type": "code",
   "execution_count": 10,
   "id": "c8988aa2-f1c6-4e6f-86a7-7222555b2ef8",
   "metadata": {},
   "outputs": [
    {
     "name": "stdout",
     "output_type": "stream",
     "text": [
      "Strings with more than three vowels:\n",
      "[]\n"
     ]
    }
   ],
   "source": [
    "def count_vowels(string):\n",
    "    vowels = \"aeiouAEIOU\"\n",
    "    return sum(1 for char in string if char in vowels)\n",
    "\n",
    "strings = [\"apple\", \"banana\", \"cherry\", \"dog\", \"elephant\", \"fig\", \"grape\"]\n",
    "\n",
    "filtered_strings = [string for string in strings if count_vowels(string) > 3]\n",
    "print(\"Strings with more than three vowels:\")\n",
    "print(filtered_strings)"
   ]
  },
  {
   "cell_type": "code",
   "execution_count": 11,
   "id": "91790015-3cbd-4593-b46a-d016ce84c23d",
   "metadata": {},
   "outputs": [
    {
     "name": "stdout",
     "output_type": "stream",
     "text": [
      "The sum of the digits of numbers from 1 to 1000 is: 13501\n"
     ]
    }
   ],
   "source": [
    "digit_sums = [sum(int(digit) for digit in str(num)) for num in range(1, 1001)]\n",
    "total_sum = sum(digit_sums)\n",
    "print(\"The sum of the digits of numbers from 1 to 1000 is:\", total_sum)"
   ]
  },
  {
   "cell_type": "code",
   "execution_count": null,
   "id": "b4e7e04f-ba83-4319-9763-acb644d374d9",
   "metadata": {},
   "outputs": [],
   "source": []
  }
 ],
 "metadata": {
  "kernelspec": {
   "display_name": "Python 3 (ipykernel)",
   "language": "python",
   "name": "python3"
  },
  "language_info": {
   "codemirror_mode": {
    "name": "ipython",
    "version": 3
   },
   "file_extension": ".py",
   "mimetype": "text/x-python",
   "name": "python",
   "nbconvert_exporter": "python",
   "pygments_lexer": "ipython3",
   "version": "3.10.8"
  }
 },
 "nbformat": 4,
 "nbformat_minor": 5
}
