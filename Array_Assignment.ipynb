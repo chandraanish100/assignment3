{
 "cells": [
  {
   "cell_type": "code",
   "execution_count": 5,
   "id": "54775dce-c056-4e17-96a1-50582d83beba",
   "metadata": {},
   "outputs": [
    {
     "name": "stdout",
     "output_type": "stream",
     "text": [
      "True\n"
     ]
    }
   ],
   "source": [
    "def chek(arr):\n",
    "        if len(arr)!=len(set(arr)):\n",
    "            return True\n",
    "        return False\n",
    "\n",
    "\n",
    "\n",
    "\n",
    "\n",
    "arr = [1, 2, 4, 2, 5, 9] \n",
    "Result=chek(arr)\n",
    "print(Result)\n"
   ]
  },
  {
   "cell_type": "code",
   "execution_count": 10,
   "id": "d6278f9b-dc07-4770-9baa-19ec8e23515d",
   "metadata": {},
   "outputs": [
    {
     "name": "stdout",
     "output_type": "stream",
     "text": [
      "[7, 6, 5, 1, 2, 3, 4]\n"
     ]
    }
   ],
   "source": [
    "def rotat(arr):\n",
    "    return arr[-1:k:-1]+arr[0:k+1]\n",
    "arr = [1, 2, 3, 4, 5, 6, 7] \n",
    "k = 3\n",
    "result=rotat(arr)\n",
    "print(result)"
   ]
  },
  {
   "cell_type": "code",
   "execution_count": 8,
   "id": "2009f0cc-24de-4d59-849a-49d808010b65",
   "metadata": {},
   "outputs": [
    {
     "name": "stdout",
     "output_type": "stream",
     "text": [
      "[12, 9, 7, 5, 4, 2]\n"
     ]
    }
   ],
   "source": [
    "def full_rotate(arr):\n",
    "    return arr[-1::-1]\n",
    "    \n",
    "   \n",
    "arr = [2, 4, 5, 7, 9, 12] \n",
    "reverse=full_rotate(arr)\n",
    "print(reverse)"
   ]
  },
  {
   "cell_type": "code",
   "execution_count": 28,
   "id": "a35d5e0d-0a50-4b4d-911a-17009e4c0103",
   "metadata": {},
   "outputs": [
    {
     "data": {
      "text/plain": [
       "20"
      ]
     },
     "execution_count": 28,
     "metadata": {},
     "output_type": "execute_result"
    }
   ],
   "source": [
    "def maxa(arr):\n",
    "    a=1\n",
    "    for i in range(len(arr)):\n",
    "        if arr[i]>=a:\n",
    "            a=arr[i]        \n",
    "    return a\n",
    "arr = [10, 5, 20, 8, 15]\n",
    "maxa(arr)\n"
   ]
  },
  {
   "cell_type": "code",
   "execution_count": null,
   "id": "849b70ed-fae3-4a37-9bb4-e1156fbec096",
   "metadata": {},
   "outputs": [],
   "source": [
    "def sortr(arr):\n",
    "    x=set(arr)\n",
    "    return x\n",
    "    \n",
    "\n",
    "\n",
    "\n",
    "\n",
    "arr = [1, 1, 2, 2, 2, 3, 3, 4, 4, 4, 5, 5] \n",
    "sortr\n"
   ]
  },
  {
   "cell_type": "code",
   "execution_count": null,
   "id": "8c4c4b0d-5b0d-4b3c-a0b5-ce95b4722fe7",
   "metadata": {},
   "outputs": [],
   "source": []
  }
 ],
 "metadata": {
  "kernelspec": {
   "display_name": "Python 3 (ipykernel)",
   "language": "python",
   "name": "python3"
  },
  "language_info": {
   "codemirror_mode": {
    "name": "ipython",
    "version": 3
   },
   "file_extension": ".py",
   "mimetype": "text/x-python",
   "name": "python",
   "nbconvert_exporter": "python",
   "pygments_lexer": "ipython3",
   "version": "3.10.8"
  }
 },
 "nbformat": 4,
 "nbformat_minor": 5
}
