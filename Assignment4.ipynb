{
 "cells": [
  {
   "cell_type": "code",
   "execution_count": 11,
   "id": "44193eb3-0e20-40bc-bca3-011aae133a6f",
   "metadata": {},
   "outputs": [
    {
     "name": "stdin",
     "output_type": "stream",
     "text": [
      "Enter a number:  5\n"
     ]
    },
    {
     "name": "stdout",
     "output_type": "stream",
     "text": [
      "The number is positve\n"
     ]
    }
   ],
   "source": [
    "x=int(input(\"Enter a number: \"))\n",
    "if x>0:\n",
    "    print(\"The number is positve\")\n",
    "elif x<0:\n",
    "    print(\"The number is negative\")\n",
    "else:\n",
    "    print(\"The number is zero\")"
   ]
  },
  {
   "cell_type": "code",
   "execution_count": 7,
   "id": "8aea2fe4-d10b-4779-9c4c-22fd86d05af8",
   "metadata": {},
   "outputs": [
    {
     "name": "stdin",
     "output_type": "stream",
     "text": [
      "Enter the age of the person:  15\n"
     ]
    },
    {
     "name": "stdout",
     "output_type": "stream",
     "text": [
      "The person is not eligible for give vote\n"
     ]
    }
   ],
   "source": [
    "x=int(input(\"Enter the age of the person: \"))\n",
    "if x>=18:\n",
    "    print(\"The person is eligible for give vote\")\n",
    "else:\n",
    "    print(\"The person is not eligible for give vote\")\n",
    "      \n",
    "      "
   ]
  },
  {
   "cell_type": "code",
   "execution_count": 8,
   "id": "f1314aa1-3aa7-4e5d-841c-0cce3a782f2a",
   "metadata": {},
   "outputs": [
    {
     "name": "stdin",
     "output_type": "stream",
     "text": [
      "Enter a number:  5\n",
      "Enter a number:  6\n"
     ]
    },
    {
     "name": "stdout",
     "output_type": "stream",
     "text": [
      "x2 is Maximum in this two number\n"
     ]
    }
   ],
   "source": [
    "x1=int(input(\"Enter a number: \"))\n",
    "x2=int(input(\"Enter a number: \"))\n",
    "if x1>x2:\n",
    "    print(\"x1 is Maximum in this two number\")\n",
    "else:\n",
    "    print(\"x2 is Maximum in this two number\")"
   ]
  },
  {
   "cell_type": "code",
   "execution_count": 6,
   "id": "a5714cce-cdea-4b48-824d-b8f887f6cb97",
   "metadata": {},
   "outputs": [
    {
     "name": "stdin",
     "output_type": "stream",
     "text": [
      "Enter A Specific year:  2014\n"
     ]
    },
    {
     "name": "stdout",
     "output_type": "stream",
     "text": [
      "This is not a leap year\n"
     ]
    }
   ],
   "source": [
    "x=int(input(\"Enter A Specific year: \"))\n",
    "y=str(x)\n",
    "if len(y)==4:\n",
    "    \n",
    "    if x%4==0:\n",
    "        print(\"This is a leap year\")\n",
    "    else:\n",
    "        print(\"This is not a leap year\")\n",
    "else:\n",
    "    print(\"Please Defina write year\")\n",
    "      "
   ]
  },
  {
   "cell_type": "code",
   "execution_count": 7,
   "id": "d925ed64-592a-4d76-8c87-21314da1b533",
   "metadata": {},
   "outputs": [
    {
     "name": "stdin",
     "output_type": "stream",
     "text": [
      "Enter a word:  o\n"
     ]
    },
    {
     "name": "stdout",
     "output_type": "stream",
     "text": [
      "The word is vowel\n"
     ]
    }
   ],
   "source": [
    "x=input(\"Enter a word: \")\n",
    "y=x.lower()\n",
    "if y.isalpha():\n",
    "    if y in 'aeiou':\n",
    "        print(\"The word is vowel\")\n",
    "    else:\n",
    "        print(\"The word is consonant\")\n",
    "else:\n",
    "    print(\"The word is not valid\")\n",
    "    "
   ]
  },
  {
   "cell_type": "code",
   "execution_count": 14,
   "id": "45c4b72b-458b-474c-b169-4f34ccbe2a38",
   "metadata": {},
   "outputs": [
    {
     "name": "stdin",
     "output_type": "stream",
     "text": [
      "Enter a number:  3\n"
     ]
    },
    {
     "name": "stdout",
     "output_type": "stream",
     "text": [
      "The number is odd\n"
     ]
    }
   ],
   "source": [
    "x=int(input(\"Enter a number: \"))\n",
    "if x==0:\n",
    "    print(\"The number is zero\")\n",
    "elif x%2==0:\n",
    "    print(\"The number is even\")\n",
    "else:\n",
    "    print(\"The number is odd\")"
   ]
  },
  {
   "cell_type": "code",
   "execution_count": 19,
   "id": "1e566b42-ba33-4310-8531-daa9556f0580",
   "metadata": {},
   "outputs": [
    {
     "name": "stdin",
     "output_type": "stream",
     "text": [
      "Enter a number:  -5\n"
     ]
    },
    {
     "name": "stdout",
     "output_type": "stream",
     "text": [
      "The absolute number is:  -5\n"
     ]
    }
   ],
   "source": [
    "x=int(input(\"Enter a number: \"))\n",
    "if x>=0:\n",
    "    print(\"The absolute number is: \",x)\n",
    "else:\n",
    "    print(\"The absolute number is: \",x)"
   ]
  },
  {
   "cell_type": "code",
   "execution_count": 1,
   "id": "9135f284-2c60-43bb-8f62-11d09a50e35a",
   "metadata": {},
   "outputs": [
    {
     "name": "stdin",
     "output_type": "stream",
     "text": [
      "Enter a number:  15\n",
      "Enter a number:  20\n",
      "Enter a number:  10\n"
     ]
    },
    {
     "name": "stdout",
     "output_type": "stream",
     "text": [
      "The largest number is:  20\n"
     ]
    }
   ],
   "source": [
    "x=int(input(\"Enter a number: \"))\n",
    "y=int(input(\"Enter a number: \"))\n",
    "z=int(input(\"Enter a number: \"))\n",
    "if x>y and x>z:\n",
    "    print(\"The largest number is: \",x)\n",
    "if y>x and y>z:\n",
    "    print(\"The largest number is: \",y)\n",
    "if z>x and z>y:\n",
    "    print(\"The largest number is: \",z)\n"
   ]
  },
  {
   "cell_type": "code",
   "execution_count": 2,
   "id": "b2a0f4ee-d138-4f39-a347-b98c6b26f907",
   "metadata": {},
   "outputs": [
    {
     "name": "stdin",
     "output_type": "stream",
     "text": [
      "Enter A String:  mom\n"
     ]
    },
    {
     "name": "stdout",
     "output_type": "stream",
     "text": [
      "The String is palindrome\n"
     ]
    }
   ],
   "source": [
    "x=input(\"Enter A String: \")\n",
    "y=x.lower()\n",
    "s=y[0:]\n",
    "e=y[-1::-1]\n",
    "if s==e:\n",
    "    print(\"The String is palindrome\")\n",
    "else:\n",
    "    print(\"The String is not palindrome\")"
   ]
  },
  {
   "cell_type": "code",
   "execution_count": 13,
   "id": "20cada5d-aef7-4621-811d-c5679db9905d",
   "metadata": {},
   "outputs": [
    {
     "name": "stdin",
     "output_type": "stream",
     "text": [
      "Enter your score:  60\n"
     ]
    },
    {
     "name": "stdout",
     "output_type": "stream",
     "text": [
      "Your Grade: A\n"
     ]
    }
   ],
   "source": [
    "x= int(input(\"Enter your score: \"))\n",
    "if x>=75:\n",
    "    print(\"Your Grade: A+\")\n",
    "elif x<75 and x>=60:\n",
    "    print(\"Your Grade: A\")\n",
    "elif x<60 and x>=50:\n",
    "    print(\"Your Grade: B+\")\n",
    "elif x<50 and x>=45:\n",
    "    print(\"Your Grade: B\")\n",
    "elif x<45 and x>=25:\n",
    "    print(\"Your Grade: C\")\n",
    "else:\n",
    "    print(\"Your Grade: D\")"
   ]
  },
  {
   "cell_type": "code",
   "execution_count": 6,
   "id": "dae6a53e-e61b-4c05-8be8-d53b0c076013",
   "metadata": {},
   "outputs": [
    {
     "name": "stdin",
     "output_type": "stream",
     "text": [
      "Enter the first number:  10\n",
      "Enter the second number:  20\n",
      "Enter the third number:  30\n"
     ]
    },
    {
     "name": "stdout",
     "output_type": "stream",
     "text": [
      "The largest number is: 30\n"
     ]
    }
   ],
   "source": [
    "num1 = int(input(\"Enter the first number: \"))\n",
    "num2 = int(input(\"Enter the second number: \"))\n",
    "num3 = int(input(\"Enter the third number: \"))\n",
    "if num1 >= num2:\n",
    "    if num1 >= num3:\n",
    "        largest = num1\n",
    "    else:\n",
    "        largest = num3\n",
    "else:\n",
    "    if num2 >= num3:\n",
    "        largest = num2\n",
    "    else:\n",
    "        largest = num3\n",
    "print(\"The largest number is:\", largest)"
   ]
  },
  {
   "cell_type": "code",
   "execution_count": 13,
   "id": "e139fbec-3d7d-484d-8388-2454d6a01fff",
   "metadata": {},
   "outputs": [
    {
     "name": "stdin",
     "output_type": "stream",
     "text": [
      "Enter the length of the first side:  20\n",
      "Enter the length of the second side:  20\n",
      "Enter the length of the third side:  30\n"
     ]
    },
    {
     "name": "stdout",
     "output_type": "stream",
     "text": [
      "The triangle is: Isosceles\n"
     ]
    }
   ],
   "source": [
    "side1 = int(input(\"Enter the length of the first side: \"))\n",
    "side2 = int(input(\"Enter the length of the second side: \"))\n",
    "side3 = int(input(\"Enter the length of the third side: \"))\n",
    "\n",
    "if side1 + side2 > side3 and side1 + side3 > side2 and side2 + side3 > side1:\n",
    "    if side1 == side2 == side3:\n",
    "        print(\"The triangle is: Equilateral\")\n",
    "    elif side1 == side2 or side1 == side3 or side2 == side3:\n",
    "        print(\"The triangle is: Isosceles\")\n",
    "    else:\n",
    "        print(\"The triangle is: Scalene\")\n",
    "else:\n",
    "    print(\"It's not a valid triangle.\")"
   ]
  },
  {
   "cell_type": "code",
   "execution_count": 18,
   "id": "41eceab4-93e0-4dfe-a116-c25b32a796ee",
   "metadata": {},
   "outputs": [
    {
     "name": "stdin",
     "output_type": "stream",
     "text": [
      "Enter A Specific year:  2000\n"
     ]
    },
    {
     "name": "stdout",
     "output_type": "stream",
     "text": [
      "This is a leap year\n",
      "This is a century year\n"
     ]
    }
   ],
   "source": [
    "x=int(input(\"Enter A Specific year: \"))\n",
    "if x%4==0:\n",
    "    print(\"This is a leap year\")\n",
    "    if x%100==0:\n",
    "        print(\"This is a century year\")\n",
    "else:\n",
    "    print(\"This is not a leap year\")\n",
    "      "
   ]
  },
  {
   "cell_type": "code",
   "execution_count": 22,
   "id": "ed696748-0c74-46bb-8d2f-b180aadb21e3",
   "metadata": {},
   "outputs": [
    {
     "name": "stdin",
     "output_type": "stream",
     "text": [
      "Enter a number:  -5\n"
     ]
    },
    {
     "name": "stdout",
     "output_type": "stream",
     "text": [
      "The number is negative\n"
     ]
    }
   ],
   "source": [
    "x=int(input(\"Enter a number: \"))\n",
    "if x>=0:\n",
    "    if x>0:\n",
    "        print(\"The number is positve\")\n",
    "    else:\n",
    "        print(\"The number is zero\")\n",
    "else:\n",
    "    print(\"The number is negative\")"
   ]
  },
  {
   "cell_type": "code",
   "execution_count": 26,
   "id": "d06ff6bf-a899-487f-a256-996372ea80ce",
   "metadata": {},
   "outputs": [
    {
     "name": "stdin",
     "output_type": "stream",
     "text": [
      "Enter the age of the person: 15\n"
     ]
    },
    {
     "name": "stdout",
     "output_type": "stream",
     "text": [
      "The person is teenager\n"
     ]
    }
   ],
   "source": [
    "x=int(input(\"Enter the age of the person:\"))\n",
    "if x<=19:\n",
    "    if x>13 and x<=19:\n",
    "        print(\"The person is teenager\")\n",
    "    else:\n",
    "        print(\"The person is child\")\n",
    "else:\n",
    "    print(\"The person is Younger\")\n",
    "\n",
    "      "
   ]
  },
  {
   "cell_type": "code",
   "execution_count": 33,
   "id": "92ae7ab2-b487-4f9b-ac7b-bb1896ac2778",
   "metadata": {},
   "outputs": [
    {
     "name": "stdin",
     "output_type": "stream",
     "text": [
      "Enter the angle measure in degrees:  250\n"
     ]
    },
    {
     "name": "stdout",
     "output_type": "stream",
     "text": [
      "The angle type is Invalid.\n",
      "Invalid angle measure. Please enter a measure between 0 and 180 degrees.\n"
     ]
    }
   ],
   "source": [
    "angle = int(input(\"Enter the angle measure in degrees: \"))\n",
    "\n",
    "if angle > 0 and angle < 90:\n",
    "    print(\"The angle type is Acute angle'\")\n",
    "elif angle >= 90 and angle < 180:\n",
    "    if angle ==90:\n",
    "        print(\"The angle type is Right angle'\")\n",
    "    else:\n",
    "        print(\"The angle type is Obtuse angle.\")\n",
    "else:\n",
    "     print(\"The angle type is Invalid.\\nInvalid angle measure. Please enter a measure between 0 and 180 degrees.\")\n"
   ]
  },
  {
   "cell_type": "code",
   "execution_count": 1,
   "id": "8c6b22a8-b2ba-4aa9-93c4-7fb9d6ef4139",
   "metadata": {},
   "outputs": [
    {
     "name": "stdin",
     "output_type": "stream",
     "text": [
      "Enter the coefficient 'a':  20\n",
      "Enter the coefficient 'b':  30\n",
      "Enter the coefficient 'c':  15\n"
     ]
    },
    {
     "name": "stdout",
     "output_type": "stream",
     "text": [
      "The roots are complex: -0.75 + 0.43301270189221935i and -0.75 - 0.43301270189221935i\n"
     ]
    }
   ],
   "source": [
    "import math\n",
    "\n",
    "\n",
    "a = int(input(\"Enter the coefficient 'a': \"))\n",
    "b = int(input(\"Enter the coefficient 'b': \"))\n",
    "c = int(input(\"Enter the coefficient 'c': \"))\n",
    "\n",
    "discriminant = b**2 - 4*a*c\n",
    "\n",
    "\n",
    "if discriminant > 0:\n",
    "    root1 = (-b + math.sqrt(discriminant)) / (2*a)\n",
    "    root2 = (-b - math.sqrt(discriminant)) / (2*a)\n",
    "    print(f\"The roots are real and distinct: {root1} and {root2}\")\n",
    "elif discriminant == 0:\n",
    "    root = -b / (2*a)\n",
    "    print(f\"The root is real and repeated: {root}\")\n",
    "else:\n",
    "    real_part = -b / (2*a)\n",
    "    imaginary_part = math.sqrt(abs(discriminant)) / (2*a)\n",
    "    print(f\"The roots are complex: {real_part} + {imaginary_part}i and {real_part} - {imaginary_part}i\")"
   ]
  },
  {
   "cell_type": "code",
   "execution_count": 3,
   "id": "1984ce4d-c45f-4b17-91ae-ce693c3bb9b9",
   "metadata": {},
   "outputs": [
    {
     "name": "stdin",
     "output_type": "stream",
     "text": [
      "Enter a number (1 for Monday, 2 for Tuesday, etc.):  3\n"
     ]
    },
    {
     "name": "stdout",
     "output_type": "stream",
     "text": [
      "The day corresponding to 3 is Wednesday.\n"
     ]
    }
   ],
   "source": [
    "day_number = int(input(\"Enter a number (1 for Monday, 2 for Tuesday, etc.): \"))\n",
    "\n",
    "\n",
    "days_of_week = [\"Monday\", \"Tuesday\", \"Wednesday\", \"Thursday\", \"Friday\", \"Saturday\", \"Sunday\"]\n",
    "\n",
    "\n",
    "if 1 <= day_number <= 7:\n",
    "    day_name = days_of_week[day_number - 1]\n",
    "    print(f\"The day corresponding to {day_number} is {day_name}.\")\n",
    "else:\n",
    "    print(\"Invalid input. Please enter a number between 1 and 7.\")"
   ]
  },
  {
   "cell_type": "code",
   "execution_count": 5,
   "id": "fca64eea-b269-40f8-b97a-c0037dbfd687",
   "metadata": {},
   "outputs": [
    {
     "name": "stdin",
     "output_type": "stream",
     "text": [
      "Enter A Specific year:  2000\n"
     ]
    },
    {
     "name": "stdout",
     "output_type": "stream",
     "text": [
      "This is a leap year\n",
      "This is a century year.And it's divisible by 400\n"
     ]
    }
   ],
   "source": [
    "x=int(input(\"Enter A Specific year: \"))\n",
    "if x%4==0:\n",
    "    print(\"This is a leap year\")\n",
    "    if x%400==0:\n",
    "        print(\"This is a century year.And it's divisible by 400\")\n",
    "else:\n",
    "    print(\"This is not a leap year\")\n",
    "      "
   ]
  },
  {
   "cell_type": "code",
   "execution_count": 9,
   "id": "c41ba176-aacc-48bb-a9e4-d3be585030a6",
   "metadata": {},
   "outputs": [
    {
     "name": "stdin",
     "output_type": "stream",
     "text": [
      "Enter the number:  10\n"
     ]
    },
    {
     "name": "stdout",
     "output_type": "stream",
     "text": [
      "The Number is Not Prime\n"
     ]
    }
   ],
   "source": [
    "x=int(input(\"Enter the number: \"))\n",
    "if x==1:\n",
    "    print(\"The Number is Not Prime\")\n",
    "elif x>1:\n",
    "    for i in range (2,x):\n",
    "        if x%i==0:\n",
    "            print(\"The Number is Not Prime\")\n",
    "            break\n",
    "    else:\n",
    "        print(\"The Number is Prime\")"
   ]
  },
  {
   "cell_type": "code",
   "execution_count": 14,
   "id": "99177ab6-9492-4e7f-8afb-01ce4fed9ad3",
   "metadata": {},
   "outputs": [
    {
     "name": "stdin",
     "output_type": "stream",
     "text": [
      "Enter your score:  30\n"
     ]
    },
    {
     "name": "stdout",
     "output_type": "stream",
     "text": [
      "Your Grade: C\n"
     ]
    }
   ],
   "source": [
    "x= int(input(\"Enter your score: \"))\n",
    "if x>=75:\n",
    "    print(\"Your Grade: A+\")\n",
    "elif x<75 and x>=60:\n",
    "    print(\"Your Grade: A\")\n",
    "elif x<60 and x>=50:\n",
    "    print(\"Your Grade: B+\")\n",
    "elif x<50 and x>=45:\n",
    "    print(\"Your Grade: B\")\n",
    "elif x<45 and x>=25:\n",
    "    print(\"Your Grade: C\")\n",
    "else:\n",
    "    print(\"Your Grade: D\")"
   ]
  },
  {
   "cell_type": "code",
   "execution_count": 15,
   "id": "01375bc6-d11a-4ada-8238-6b784f643abc",
   "metadata": {},
   "outputs": [
    {
     "name": "stdin",
     "output_type": "stream",
     "text": [
      "Enter the angle measure in degrees:  50\n"
     ]
    },
    {
     "name": "stdout",
     "output_type": "stream",
     "text": [
      "The angle type is Acute angle'\n"
     ]
    }
   ],
   "source": [
    "angle = int(input(\"Enter the angle measure in degrees: \"))\n",
    "\n",
    "if angle > 0 and angle < 90:\n",
    "    print(\"The angle type is Acute angle'\")\n",
    "elif angle >= 90 and angle < 180:\n",
    "    if angle ==90:\n",
    "        print(\"The angle type is Right angle'\")\n",
    "    else:\n",
    "        print(\"The angle type is Obtuse angle.\")\n",
    "else:\n",
    "     print(\"The angle type is Invalid.\\nInvalid angle measure. Please enter a measure between 0 and 180 degrees.\")\n"
   ]
  },
  {
   "cell_type": "code",
   "execution_count": 18,
   "id": "3ec24b8b-c160-4417-a2dc-bfcf0c29fb38",
   "metadata": {},
   "outputs": [
    {
     "name": "stdin",
     "output_type": "stream",
     "text": [
      "Enter weight (in kg):  50\n",
      "Enter height (in meters):  45\n"
     ]
    },
    {
     "name": "stdout",
     "output_type": "stream",
     "text": [
      "Your BMI categorized as Underweight.\n"
     ]
    }
   ],
   "source": [
    "weight = int(input(\"Enter weight (in kg): \"))\n",
    "height = int(input(\"Enter height (in meters): \"))\n",
    "\n",
    "bmi = weight / (height * height)\n",
    "\n",
    "\n",
    "if bmi < 18.5:\n",
    "    print(\"Your BMI categorized as Underweight.\")\n",
    "elif 18.5 <= bmi < 24.9:\n",
    "    print(\"Your BMI categorized as category normal weight\")\n",
    "elif 24.9 <= bmi < 29.9:\n",
    "    print(\"Your BMI categorized as category overweight\")\n",
    "else:\n",
    "    print(\"Your BMI categorized as category obese\")\n"
   ]
  },
  {
   "cell_type": "code",
   "execution_count": 19,
   "id": "d7848e66-39d9-48c9-996f-14017166ce48",
   "metadata": {},
   "outputs": [
    {
     "name": "stdin",
     "output_type": "stream",
     "text": [
      "Enter a number:  -5\n"
     ]
    },
    {
     "name": "stdout",
     "output_type": "stream",
     "text": [
      "The number is negative\n"
     ]
    }
   ],
   "source": [
    "x=int(input(\"Enter a number: \"))\n",
    "if x>0:\n",
    "    print(\"The number is positve\")\n",
    "elif x<0:\n",
    "    print(\"The number is negative\")\n",
    "else:\n",
    "    print(\"The number is zero\")"
   ]
  },
  {
   "cell_type": "code",
   "execution_count": 21,
   "id": "ac05e693-756c-4704-8641-42a67c889998",
   "metadata": {},
   "outputs": [
    {
     "name": "stdin",
     "output_type": "stream",
     "text": [
      "Enter a character:  @\n"
     ]
    },
    {
     "name": "stdout",
     "output_type": "stream",
     "text": [
      "The type of the character is Special\n"
     ]
    }
   ],
   "source": [
    "char = input(\"Enter a character: \")\n",
    "\n",
    "if char.isalpha():\n",
    "    if char.isupper():\n",
    "        print(\"The type of the character is Upper\")\n",
    "    elif char.islower():\n",
    "        print(\"The type of the character is Lower\")\n",
    "else:\n",
    "    print(\"The type of the character is Special\")"
   ]
  },
  {
   "cell_type": "code",
   "execution_count": 26,
   "id": "ad598f2d-cc40-4662-9916-cbdf4443f97c",
   "metadata": {},
   "outputs": [
    {
     "name": "stdin",
     "output_type": "stream",
     "text": [
      "Enter the purchase amount:  100\n"
     ]
    },
    {
     "name": "stdout",
     "output_type": "stream",
     "text": [
      "The discounted price is: Rupees 85.0\n"
     ]
    }
   ],
   "source": [
    "purchase_amount = int(input(\"Enter the purchase amount: \"))\n",
    "\n",
    "discount_rate_10 = 0.15\n",
    "discount_rate_20 = 0.30\n",
    "discount_rate_30 = 0.35\n",
    "\n",
    "\n",
    "if purchase_amount < 100:\n",
    "    discounted_price = purchase_amount \n",
    "elif purchase_amount < 500:\n",
    "    discounted_price = purchase_amount * (1 - discount_rate_10)\n",
    "elif purchase_amount < 1000:\n",
    "    discounted_price = purchase_amount * (1 - discount_rate_20)\n",
    "else:\n",
    "    discounted_price = purchase_amount * (1 - discount_rate_30)\n",
    "\n",
    "print(f\"The discounted price is: Rupees {discounted_price}\")"
   ]
  },
  {
   "cell_type": "code",
   "execution_count": 28,
   "id": "e3924ad9-4af5-4d76-8a82-1a325872463e",
   "metadata": {},
   "outputs": [
    {
     "name": "stdin",
     "output_type": "stream",
     "text": [
      "Enter the electricity consumption (in kWh):  400\n"
     ]
    },
    {
     "name": "stdout",
     "output_type": "stream",
     "text": [
      "The electricity bill is: Rupees 270.0\n"
     ]
    }
   ],
   "source": [
    "consumption = int(input(\"Enter the electricity consumption (in kWh): \"))\n",
    "\n",
    "slab_1_limit = 150 \n",
    "slab_1_rate = 0.8  \n",
    "slab_2_limit = 300 \n",
    "slab_2_rate = 0.6 \n",
    "slab_2_limit = 400 \n",
    "slab_3_rate = 1.0\n",
    "\n",
    "if consumption <= slab_1_limit:\n",
    "    bill = consumption * slab_1_rate\n",
    "elif consumption <= slab_2_limit:\n",
    "    bill = slab_1_limit * slab_1_rate + (consumption - slab_1_limit) * slab_2_rate\n",
    "else:\n",
    "    bill = slab_1_limit * slab_1_rate + (slab_2_limit - slab_1_limit) * slab_2_rate + (consumption - slab_2_limit) * slab_3_rate\n",
    "    \n",
    "print(f\"The electricity bill is: Rupees {bill}\")"
   ]
  },
  {
   "cell_type": "code",
   "execution_count": 29,
   "id": "1fe7db4d-7b53-485f-9e24-a45fad53ac6b",
   "metadata": {},
   "outputs": [
    {
     "name": "stdin",
     "output_type": "stream",
     "text": [
      "Enter the first angle (in degrees):  90\n",
      "Enter the second angle (in degrees):  90\n",
      "Enter the third angle (in degrees):  90\n",
      "Enter the fourth angle (in degrees):  90\n",
      "Enter the length of the first side:  60\n",
      "Enter the length of the second side:  45\n",
      "Enter the length of the third side:  60\n",
      "Enter the length of the fourth side:  45\n"
     ]
    },
    {
     "name": "stdout",
     "output_type": "stream",
     "text": [
      "The quadrilateral is a quadrilateral.\n"
     ]
    }
   ],
   "source": [
    "angle1 = int(input(\"Enter the first angle (in degrees): \"))\n",
    "angle2 = int(input(\"Enter the second angle (in degrees): \"))\n",
    "angle3 = int(input(\"Enter the third angle (in degrees): \"))\n",
    "angle4 = int(input(\"Enter the fourth angle (in degrees): \"))\n",
    "\n",
    "side1 = int(input(\"Enter the length of the first side: \"))\n",
    "side2 = int(input(\"Enter the length of the second side: \"))\n",
    "side3 = int(input(\"Enter the length of the third side: \"))\n",
    "side4 = int(input(\"Enter the length of the fourth side: \"))\n",
    "\n",
    "if angle1 == angle2 == angle3 == angle4 == 90:\n",
    "    if side1 == side2 == side3 == side4:\n",
    "        quadrilateral_type = \"square\"\n",
    "    elif side1 == side2 and side3 == side4:\n",
    "        quadrilateral_type = \"rectangle\"\n",
    "    else:\n",
    "        quadrilateral_type = \"quadrilateral\"\n",
    "elif side1 == side2 == side3 == side4:\n",
    "    if angle1 == angle2 == angle3 == angle4:\n",
    "        quadrilateral_type = \"rhombus\"\n",
    "    else:\n",
    "        quadrilateral_type = \"parallelogram\"\n",
    "elif side1 == side3 and side2 == side4:\n",
    "    if angle1 + angle2 + angle3 + angle4 == 360:\n",
    "        quadrilateral_type = \"kite\"\n",
    "    else:\n",
    "        quadrilateral_type = \"quadrilateral\"\n",
    "else:\n",
    "    quadrilateral_type = \"quadrilateral\"\n",
    "\n",
    "print(f\"The quadrilateral is a {quadrilateral_type}.\")"
   ]
  },
  {
   "cell_type": "code",
   "execution_count": 31,
   "id": "c94d50e8-a291-4e1f-9bd4-796076ac2f2f",
   "metadata": {},
   "outputs": [
    {
     "name": "stdin",
     "output_type": "stream",
     "text": [
      "Enter a month (e.g., January, February, etc.):  may\n"
     ]
    },
    {
     "name": "stdout",
     "output_type": "stream",
     "text": [
      "This Season is Spring\n"
     ]
    }
   ],
   "source": [
    "month = input(\"Enter a month (e.g., January, February, etc.): \").lower()\n",
    "\n",
    "if month in [\"december\", \"january\", \"february\"]:\n",
    "    print(\"This Season is Winter\")\n",
    "elif month in [\"march\", \"april\", \"may\"]:\n",
    "    print(\"This Season is Spring\")\n",
    "elif month in [\"june\", \"july\", \"august\"]:\n",
    "    print(\"This Season is Summer\")\n",
    "elif month in [\"september\", \"october\", \"november\"]:\n",
    "    print(\"This Season is Autumn\")\n",
    "else:\n",
    "    print(\"Invalid month input. Please enter a valid month.\")\n"
   ]
  },
  {
   "cell_type": "code",
   "execution_count": 14,
   "id": "7f40aba2-a6c9-48ac-8fd7-96124e8ba584",
   "metadata": {},
   "outputs": [
    {
     "name": "stdin",
     "output_type": "stream",
     "text": [
      "Type a Year:  2020\n",
      "Enter a month (e.g., January, February, etc.):  may\n"
     ]
    },
    {
     "name": "stdout",
     "output_type": "stream",
     "text": [
      "This is a leap year\n",
      "31 Days in this month\n"
     ]
    }
   ],
   "source": [
    "Year=input(\"Type a Year: \")\n",
    "Month=input(\"Enter a month (e.g., January, February, etc.): \").lower()\n",
    "y=0\n",
    "if len(Year)==4:\n",
    "    y=int(Year)\n",
    "    if y%4==0:\n",
    "        print(\"This is a leap year\")\n",
    "    else:\n",
    "        print(\"This is a common Year\")\n",
    "else:\n",
    "    print(\"Print write year\")\n",
    "if Month in [\"january\", \"march\",\"may\",\"july\",\"august\",\"october\",\"december\"]:\n",
    "    print(\"31 Days in this month\")\n",
    "elif Month in [\"february\"]:\n",
    "    print(\"29 Days in this month\")\n",
    "elif Month in [\"april\",\"june\",\"september\",\"november\"]:\n",
    "    print(\"30 Days in this month\")\n",
    "else:\n",
    "    print(\"print valid month\")"
   ]
  },
  {
   "cell_type": "code",
   "execution_count": 15,
   "id": "84e10522-db13-428e-98b7-99ee27f7a8c0",
   "metadata": {},
   "outputs": [
    {
     "name": "stdin",
     "output_type": "stream",
     "text": [
      "Enter a number:  6\n"
     ]
    },
    {
     "name": "stdout",
     "output_type": "stream",
     "text": [
      "The number is positve\n"
     ]
    }
   ],
   "source": [
    "x=int(input(\"Enter a number: \"))\n",
    "if x>0:\n",
    "    print(\"The number is positve\")\n",
    "elif x<0:\n",
    "    print(\"The number is negative\")\n",
    "else:\n",
    "    print(\"The number is zero\")"
   ]
  },
  {
   "cell_type": "code",
   "execution_count": 17,
   "id": "90405246-d42a-40cf-80d0-b2e603ed5b7b",
   "metadata": {},
   "outputs": [
    {
     "name": "stdin",
     "output_type": "stream",
     "text": [
      "Enter the age of the person:  20\n"
     ]
    },
    {
     "name": "stdout",
     "output_type": "stream",
     "text": [
      "The person is eligible for give vote\n"
     ]
    }
   ],
   "source": [
    "x=int(input(\"Enter the age of the person: \"))\n",
    "if x>=18:\n",
    "    print(\"The person is eligible for give vote\")\n",
    "else:\n",
    "    print(\"The person is not eligible for give vote\")\n",
    "      \n",
    "      "
   ]
  },
  {
   "cell_type": "code",
   "execution_count": 1,
   "id": "da8d9d17-c9a7-4eba-9f91-9c0fa4a1f9c4",
   "metadata": {},
   "outputs": [
    {
     "name": "stdin",
     "output_type": "stream",
     "text": [
      "Enter a number:  10\n",
      "Enter a number:  25\n"
     ]
    },
    {
     "name": "stdout",
     "output_type": "stream",
     "text": [
      "x2 is Maximum in this two number\n"
     ]
    }
   ],
   "source": [
    "x1=int(input(\"Enter a number: \"))\n",
    "x2=int(input(\"Enter a number: \"))\n",
    "if x1>x2:\n",
    "    print(\"x1 is Maximum in this two number\")\n",
    "else:\n",
    "    print(\"x2 is Maximum in this two number\")\n",
    "    "
   ]
  },
  {
   "cell_type": "code",
   "execution_count": 1,
   "id": "8f1aea45-0eba-4ce8-ad0a-d747e7b921a2",
   "metadata": {},
   "outputs": [
    {
     "name": "stdin",
     "output_type": "stream",
     "text": [
      "Enter your score:  25\n"
     ]
    },
    {
     "name": "stdout",
     "output_type": "stream",
     "text": [
      "Your Grade: C\n"
     ]
    }
   ],
   "source": [
    "x= int(input(\"Enter your score: \"))\n",
    "if x>=75:\n",
    "    print(\"Your Grade: A+\")\n",
    "elif x<75 and x>=60:\n",
    "    print(\"Your Grade: A\")\n",
    "elif x<60 and x>=50:\n",
    "    print(\"Your Grade: B+\")\n",
    "elif x<50 and x>=45:\n",
    "    print(\"Your Grade: B\")\n",
    "elif x<45 and x>=25:\n",
    "    print(\"Your Grade: C\")\n",
    "else:\n",
    "    print(\"Your Grade: D\")\n",
    "    "
   ]
  },
  {
   "cell_type": "code",
   "execution_count": 7,
   "id": "34b16927-5c96-4d24-8d2f-dfbb675d41a1",
   "metadata": {},
   "outputs": [
    {
     "name": "stdin",
     "output_type": "stream",
     "text": [
      "Enter A Specific year:  2020\n"
     ]
    },
    {
     "name": "stdout",
     "output_type": "stream",
     "text": [
      "This is a leap year\n"
     ]
    }
   ],
   "source": [
    "x=int(input(\"Enter A Specific year: \"))\n",
    "y=str(x)\n",
    "if len(y)==4:\n",
    "    \n",
    "    if x%4==0:\n",
    "        print(\"This is a leap year\")\n",
    "    else:\n",
    "        print(\"This is not a leap year\")\n",
    "else:\n",
    "    print(\"Please Defina write year\")"
   ]
  },
  {
   "cell_type": "code",
   "execution_count": 1,
   "id": "eab279ce-8483-4573-8621-08544a3a34f3",
   "metadata": {},
   "outputs": [
    {
     "name": "stdin",
     "output_type": "stream",
     "text": [
      "Enter the length of the first side:  50\n",
      "Enter the length of the second side:  40\n",
      "Enter the length of the third side:  30\n"
     ]
    },
    {
     "name": "stdout",
     "output_type": "stream",
     "text": [
      "The triangle is: Scalene\n"
     ]
    }
   ],
   "source": [
    "side1 = int(input(\"Enter the length of the first side: \"))\n",
    "side2 = int(input(\"Enter the length of the second side: \"))\n",
    "side3 = int(input(\"Enter the length of the third side: \"))\n",
    "\n",
    "if side1 + side2 > side3 and side1 + side3 > side2 and side2 + side3 > side1:\n",
    "    if side1 == side2 == side3:\n",
    "        print(\"The triangle is: Equilateral\")\n",
    "    elif side1 == side2 or side1 == side3 or side2 == side3:\n",
    "        print(\"The triangle is: Isosceles\")\n",
    "    else:\n",
    "        print(\"The triangle is: Scalene\")\n",
    "else:\n",
    "    print(\"It's not a valid triangle.\")"
   ]
  },
  {
   "cell_type": "code",
   "execution_count": 2,
   "id": "cc420c1f-c9e9-4ad9-9e48-231b1f029620",
   "metadata": {},
   "outputs": [
    {
     "name": "stdin",
     "output_type": "stream",
     "text": [
      "Enter the first number:  20\n",
      "Enter the second number:  30\n",
      "Enter the third number:  14\n"
     ]
    },
    {
     "name": "stdout",
     "output_type": "stream",
     "text": [
      "The largest number is: 30\n"
     ]
    }
   ],
   "source": [
    "num1 = int(input(\"Enter the first number: \"))\n",
    "num2 = int(input(\"Enter the second number: \"))\n",
    "num3 = int(input(\"Enter the third number: \"))\n",
    "if num1 >= num2:\n",
    "    if num1 >= num3:\n",
    "        largest = num1\n",
    "    else:\n",
    "        largest = num3\n",
    "else:\n",
    "    if num2 >= num3:\n",
    "        largest = num2\n",
    "    else:\n",
    "        largest = num3\n",
    "print(\"The largest number is:\", largest)"
   ]
  },
  {
   "cell_type": "code",
   "execution_count": 3,
   "id": "e836a273-95e7-4699-b15b-0d0c7d7d5c98",
   "metadata": {},
   "outputs": [
    {
     "name": "stdin",
     "output_type": "stream",
     "text": [
      "Enter a word:  j\n"
     ]
    },
    {
     "name": "stdout",
     "output_type": "stream",
     "text": [
      "The word is consonant\n"
     ]
    }
   ],
   "source": [
    "x=input(\"Enter a word: \")\n",
    "y=x.lower()\n",
    "if y.isalpha():\n",
    "    if y in 'aeiou':\n",
    "        print(\"The word is vowel\")\n",
    "    else:\n",
    "        print(\"The word is consonant\")\n",
    "else:\n",
    "    print(\"The word is not valid\")\n",
    "    "
   ]
  },
  {
   "cell_type": "code",
   "execution_count": 5,
   "id": "48c5e649-9e6c-44bf-aa88-f0da0dd89295",
   "metadata": {},
   "outputs": [
    {
     "name": "stdin",
     "output_type": "stream",
     "text": [
      "Enter the price of the value 100\n",
      "Enter the price of the value 200\n",
      "Enter the price of the value 300\n",
      "Enter the price of the value 150\n",
      "Enter the Discount of the price 10\n",
      "Enter the Discount of the price 20\n",
      "Enter the Discount of the price 4\n",
      "Enter the Discount of the price 16\n"
     ]
    },
    {
     "name": "stdout",
     "output_type": "stream",
     "text": [
      "Your total price is:  664.0\n"
     ]
    }
   ],
   "source": [
    "item1=int(input(\"Enter the price of the value\"))\n",
    "item2=int(input(\"Enter the price of the value\"))\n",
    "item3=int(input(\"Enter the price of the value\"))\n",
    "item4=int(input(\"Enter the price of the value\"))\n",
    "Discount1=int(input(\"Enter the Discount of the price\"))\n",
    "Discount2=int(input(\"Enter the Discount of the price\"))\n",
    "Discount3=int(input(\"Enter the Discount of the price\"))\n",
    "Discount4=int(input(\"Enter the Discount of the price\"))\n",
    "Discount_price1=(Discount1/100)*item1 \n",
    "Discount_price2=(Discount2/100)*item2 \n",
    "Discount_price3=(Discount3/100)*item3 \n",
    "Discount_price4=(Discount4/100)*item4\n",
    "Total_Price =(item1 - Discount_price1)+(item2 - Discount_price2)+(item3 - Discount_price3)+(item4 - Discount_price4) \n",
    "print(\"Your total price is: \", Total_Price)"
   ]
  },
  {
   "cell_type": "code",
   "execution_count": 6,
   "id": "1b81f676-2b4f-4613-bf77-a8556252c86a",
   "metadata": {},
   "outputs": [
    {
     "name": "stdin",
     "output_type": "stream",
     "text": [
      "Enter a number:  13\n"
     ]
    },
    {
     "name": "stdout",
     "output_type": "stream",
     "text": [
      "The number is odd\n"
     ]
    }
   ],
   "source": [
    "x=int(input(\"Enter a number: \"))\n",
    "if x==0:\n",
    "    print(\"The number is zero\")\n",
    "elif x%2==0:\n",
    "    print(\"The number is even\")\n",
    "else:\n",
    "    print(\"The number is odd\")"
   ]
  },
  {
   "cell_type": "code",
   "execution_count": 10,
   "id": "11061d34-ed70-4a2f-bbe1-5269a28b9b56",
   "metadata": {},
   "outputs": [
    {
     "name": "stdin",
     "output_type": "stream",
     "text": [
      "Enter the coefficient 'a':  10\n",
      "Enter the coefficient 'b':  30\n",
      "Enter the coefficient 'c':  5\n"
     ]
    },
    {
     "name": "stdout",
     "output_type": "stream",
     "text": [
      "The roots are real and distinct: -0.17712434446770473 and -2.8228756555322954\n"
     ]
    }
   ],
   "source": [
    "import math\n",
    "a = int(input(\"Enter the coefficient 'a': \"))\n",
    "b = int(input(\"Enter the coefficient 'b': \"))\n",
    "c = int(input(\"Enter the coefficient 'c': \"))\n",
    "\n",
    "discriminant = b**2 - 4*a*c\n",
    "if discriminant > 0:\n",
    "    root1 = (-b + math.sqrt(discriminant)) / (2*a)\n",
    "    root2 = (-b - math.sqrt(discriminant)) / (2*a)\n",
    "    print(f\"The roots are real and distinct: {root1} and {root2}\")\n",
    "elif discriminant == 0:\n",
    "    root = -b / (2*a)\n",
    "    print(f\"The root is real and repeated: {root}\")\n",
    "else:\n",
    "    real_part = -b / (2*a)\n",
    "    imaginary_part = math.sqrt(abs(discriminant)) / (2*a)\n",
    "    print(f\"The roots are complex: {real_part} + {imaginary_part}i and {real_part} - {imaginary_part}i\")\n"
   ]
  },
  {
   "cell_type": "code",
   "execution_count": 11,
   "id": "5c1b4a8e-1a56-43b7-b58b-1e4d4be4ba9e",
   "metadata": {},
   "outputs": [
    {
     "name": "stdin",
     "output_type": "stream",
     "text": [
      "Enter a number (1 for Monday, 2 for Tuesday, etc.):  5\n"
     ]
    },
    {
     "name": "stdout",
     "output_type": "stream",
     "text": [
      "The day corresponding to 5 is Friday.\n"
     ]
    }
   ],
   "source": [
    "day_number = int(input(\"Enter a number (1 for Monday, 2 for Tuesday, etc.): \"))\n",
    "\n",
    "\n",
    "days_of_week = [\"Monday\", \"Tuesday\", \"Wednesday\", \"Thursday\", \"Friday\", \"Saturday\", \"Sunday\"]\n",
    "\n",
    "\n",
    "if 1 <= day_number <= 7:\n",
    "    day_name = days_of_week[day_number - 1]\n",
    "    print(f\"The day corresponding to {day_number} is {day_name}.\")\n",
    "else:\n",
    "    print(\"Invalid input. Please enter a number between 1 and 7.\")"
   ]
  },
  {
   "cell_type": "code",
   "execution_count": 12,
   "id": "4bee5964-16fc-499a-a5c2-52302501c5d4",
   "metadata": {},
   "outputs": [
    {
     "name": "stdin",
     "output_type": "stream",
     "text": [
      "Enter a number:  10\n"
     ]
    },
    {
     "name": "stdout",
     "output_type": "stream",
     "text": [
      "The Factorial of the 10 is 3628800\n"
     ]
    }
   ],
   "source": [
    "def factorial(n):\n",
    "    if n ==0:\n",
    "        return 1\n",
    "    else:\n",
    "        return n*factorial(n-1)\n",
    "Number=int(input(\"Enter a number: \"))\n",
    "if Number<0:\n",
    "    print(\"Pls enter the non Negative number\")\n",
    "else:\n",
    "    Result=factorial(Number)\n",
    "    print(f\"The Factorial of the {Number} is {Result}\")"
   ]
  },
  {
   "cell_type": "code",
   "execution_count": 13,
   "id": "1e1c0d92-49ef-47e1-91c9-c4dbdaf0d81d",
   "metadata": {},
   "outputs": [
    {
     "name": "stdin",
     "output_type": "stream",
     "text": [
      "Enter the first number:  10\n",
      "Enter the second number:  15\n",
      "Enter the third number:  20\n"
     ]
    },
    {
     "name": "stdout",
     "output_type": "stream",
     "text": [
      "The largest number is: 20\n"
     ]
    }
   ],
   "source": [
    "num1 = int(input(\"Enter the first number: \"))\n",
    "num2 = int(input(\"Enter the second number: \"))\n",
    "num3 = int(input(\"Enter the third number: \"))\n",
    "if num1 >= num2:\n",
    "    if num1 >= num3:\n",
    "        largest = num1\n",
    "    else:\n",
    "        largest = num3\n",
    "else:\n",
    "    if num2 >= num3:\n",
    "        largest = num2\n",
    "    else:\n",
    "        largest = num3\n",
    "print(\"The largest number is:\", largest)"
   ]
  },
  {
   "cell_type": "code",
   "execution_count": null,
   "id": "63f0237d-db96-4f85-a887-4c00bcfdb15e",
   "metadata": {},
   "outputs": [
    {
     "name": "stdout",
     "output_type": "stream",
     "text": [
      "ATM Menu:\n",
      "1. Check Balance\n",
      "2. Deposit\n",
      "3. Withdraw\n",
      "4. Exit\n"
     ]
    },
    {
     "name": "stdin",
     "output_type": "stream",
     "text": [
      "Select an option (1/2/3/4):  2\n",
      "Enter the deposit amount: Rs 500\n"
     ]
    },
    {
     "name": "stdout",
     "output_type": "stream",
     "text": [
      "Rs500.00 has been deposited. Your new balance is: Rs1500.00\n",
      "ATM Menu:\n",
      "1. Check Balance\n",
      "2. Deposit\n",
      "3. Withdraw\n",
      "4. Exit\n"
     ]
    },
    {
     "name": "stdin",
     "output_type": "stream",
     "text": [
      "Select an option (1/2/3/4):  1\n"
     ]
    },
    {
     "name": "stdout",
     "output_type": "stream",
     "text": [
      "Your account balance is: Rs1500.00\n",
      "ATM Menu:\n",
      "1. Check Balance\n",
      "2. Deposit\n",
      "3. Withdraw\n",
      "4. Exit\n"
     ]
    },
    {
     "name": "stdin",
     "output_type": "stream",
     "text": [
      "Select an option (1/2/3/4):  3\n",
      "Enter the withdrawal amount: Rs 1000\n"
     ]
    },
    {
     "name": "stdout",
     "output_type": "stream",
     "text": [
      "Rs1000.00 has been withdrawn. Your new balance is: Rs500.00\n",
      "ATM Menu:\n",
      "1. Check Balance\n",
      "2. Deposit\n",
      "3. Withdraw\n",
      "4. Exit\n"
     ]
    }
   ],
   "source": [
    "account_balance = 1000.0 \n",
    "\n",
    "def display_menu():\n",
    "    print(\"ATM Menu:\")\n",
    "    print(\"1. Check Balance\")\n",
    "    print(\"2. Deposit\")\n",
    "    print(\"3. Withdraw\")\n",
    "    print(\"4. Exit\")\n",
    "while True:\n",
    "    display_menu()\n",
    "    choice = input(\"Select an option (1/2/3/4): \")\n",
    "\n",
    "    if choice == \"1\":\n",
    "        print(f\"Your account balance is: Rs{account_balance:.2f}\")\n",
    "    elif choice == \"2\":\n",
    "        amount = float(input(\"Enter the deposit amount: Rs\"))\n",
    "        if amount > 0:\n",
    "            account_balance += amount\n",
    "            print(f\"Rs{amount:.2f} has been deposited. Your new balance is: Rs{account_balance:.2f}\")\n",
    "        else:\n",
    "            print(\"Invalid deposit amount. Please enter a positive amount.\")\n",
    "    elif choice == \"3\":\n",
    "        amount = float(input(\"Enter the withdrawal amount: Rs\"))\n",
    "        if 0 < amount <= account_balance:\n",
    "            account_balance -= amount\n",
    "            print(f\"Rs{amount:.2f} has been withdrawn. Your new balance is: Rs{account_balance:.2f}\")\n",
    "        else:\n",
    "            print(\"Invalid withdrawal amount. Please enter a valid amount within your balance.\")\n",
    "    elif choice == \"4\":\n",
    "        print(\"Thank you for using the ATM. Have a great day!\")\n",
    "        break\n",
    "    else:\n",
    "        print(\"Invalid choice. Please select a valid option (1/2/3/4).\")"
   ]
  },
  {
   "cell_type": "code",
   "execution_count": 1,
   "id": "f021620b-ab8d-4054-a92d-55cb3a672c61",
   "metadata": {},
   "outputs": [
    {
     "name": "stdin",
     "output_type": "stream",
     "text": [
      "Enter A String:  mom\n"
     ]
    },
    {
     "name": "stdout",
     "output_type": "stream",
     "text": [
      "The String is palindrome\n"
     ]
    }
   ],
   "source": [
    "x=input(\"Enter A String: \")\n",
    "y=x.lower()\n",
    "s=y[0:]\n",
    "e=y[-1::-1]\n",
    "if s==e:\n",
    "    print(\"The String is palindrome\")\n",
    "else:\n",
    "    print(\"The String is not palindrome\")\n",
    "    "
   ]
  },
  {
   "cell_type": "code",
   "execution_count": 2,
   "id": "151811d1-8ff8-474d-8245-708f918e19cb",
   "metadata": {},
   "outputs": [
    {
     "name": "stdin",
     "output_type": "stream",
     "text": [
      "Enter a list of numbers separated by spaces:  5 6 4 1 2\n"
     ]
    },
    {
     "name": "stdout",
     "output_type": "stream",
     "text": [
      "The average (excluding the smallest and largest values) is: 3.67\n"
     ]
    }
   ],
   "source": [
    "numbers = input(\"Enter a list of numbers separated by spaces: \").split()\n",
    "\n",
    "number_list = [float(num) for num in numbers]\n",
    "\n",
    "if len(number_list) < 3:\n",
    "    print(\"You need to enter at least three numbers to calculate the average.\")\n",
    "else:\n",
    "    \n",
    "    number_list.remove(min(number_list))\n",
    "    number_list.remove(max(number_list))\n",
    "    average = sum(number_list) / len(number_list)\n",
    "    print(f\"The average (excluding the smallest and largest values) is: {average:.2f}\")"
   ]
  },
  {
   "cell_type": "code",
   "execution_count": 3,
   "id": "a26a723e-7350-479e-ba2c-08c494c7c9f7",
   "metadata": {},
   "outputs": [
    {
     "name": "stdin",
     "output_type": "stream",
     "text": [
      "Enter temperature in Celsius:  20\n"
     ]
    },
    {
     "name": "stdout",
     "output_type": "stream",
     "text": [
      "20.0 degrees Celsius is equal to 68.0 degrees Fahrenheit.\n"
     ]
    }
   ],
   "source": [
    "celsius = float(input(\"Enter temperature in Celsius: \"))\n",
    "\n",
    "fahrenheit = (celsius * 9/5) + 32\n",
    "\n",
    "print(f\"{celsius} degrees Celsius is equal to {fahrenheit} degrees Fahrenheit.\")"
   ]
  },
  {
   "cell_type": "code",
   "execution_count": 4,
   "id": "f1587018-b378-4a8b-90c4-b46581decb7c",
   "metadata": {},
   "outputs": [
    {
     "name": "stdout",
     "output_type": "stream",
     "text": [
      "Calculator Menu:\n",
      "1. Addition\n",
      "2. Subtraction\n",
      "3. Multiplication\n",
      "4. Division\n"
     ]
    },
    {
     "name": "stdin",
     "output_type": "stream",
     "text": [
      "Enter your choice (1/2/3/4):  2\n",
      "Enter the first number:  10\n",
      "Enter the second number:  5\n"
     ]
    },
    {
     "name": "stdout",
     "output_type": "stream",
     "text": [
      "Subtraction result: 5.0\n"
     ]
    }
   ],
   "source": [
    "def add(x, y):\n",
    "    return x + y\n",
    "def subtract(x, y):\n",
    "    return x - y\n",
    "def multiply(x, y):\n",
    "    return x * y\n",
    "def divide(x, y):\n",
    "    if y == 0:\n",
    "        return \"Error: Division by zero\"\n",
    "    return x / y\n",
    "print(\"Calculator Menu:\")\n",
    "print(\"1. Addition\")\n",
    "print(\"2. Subtraction\")\n",
    "print(\"3. Multiplication\")\n",
    "print(\"4. Division\")\n",
    "\n",
    "\n",
    "choice = input(\"Enter your choice (1/2/3/4): \")\n",
    "\n",
    "\n",
    "num1 = float(input(\"Enter the first number: \"))\n",
    "num2 = float(input(\"Enter the second number: \"))\n",
    "\n",
    "if choice == '1':\n",
    "    result = add(num1, num2)\n",
    "    operation = \"Addition\"\n",
    "elif choice == '2':\n",
    "    result = subtract(num1, num2)\n",
    "    operation = \"Subtraction\"\n",
    "elif choice == '3':\n",
    "    result = multiply(num1, num2)\n",
    "    operation = \"Multiplication\"\n",
    "elif choice == '4':\n",
    "    result = divide(num1, num2)\n",
    "    operation = \"Division\"\n",
    "else:\n",
    "    result = \"Invalid choice\"\n",
    "    operation = \"N/A\"\n",
    "\n",
    "print(f\"{operation} result: {result}\")"
   ]
  },
  {
   "cell_type": "code",
   "execution_count": 5,
   "id": "7688ab88-62a2-419c-9355-29f71859dc66",
   "metadata": {},
   "outputs": [
    {
     "name": "stdin",
     "output_type": "stream",
     "text": [
      "Enter the coefficient 'a':  12\n",
      "Enter the coefficient 'b':  20\n",
      "Enter the coefficient 'c':  15\n",
      "Enter the coefficient 'd':  14\n"
     ]
    },
    {
     "name": "stdout",
     "output_type": "stream",
     "text": [
      "The roots of the cubic equation are:\n",
      "x1 = -1.3747215220502478\n",
      "x2 = (-0.14597257230820948-0.909587123134151j)\n",
      "x3 = (-0.14597257230820948+0.909587123134151j)\n"
     ]
    }
   ],
   "source": [
    "import math\n",
    "\n",
    "a = float(input(\"Enter the coefficient 'a': \"))\n",
    "b = float(input(\"Enter the coefficient 'b': \"))\n",
    "c = float(input(\"Enter the coefficient 'c': \"))\n",
    "d = float(input(\"Enter the coefficient 'd': \"))\n",
    "\n",
    "delta_0 = b**2 - 3*a*c\n",
    "delta_1 = 2*b**3 - 9*a*b*c + 27*a**2*d\n",
    "C = ((delta_1 + math.sqrt(delta_1**2 - 4*delta_0**3)) / 2)**(1/3)\n",
    "\n",
    "x1 = (-1 / (3*a)) * (b + C + delta_0/C)\n",
    "x2 = (-1 / (3*a)) * (b + complex(-0.5, math.sqrt(3)/2) * C + complex(-0.5, -math.sqrt(3)/2) * delta_0/C)\n",
    "x3 = (-1 / (3*a)) * (b + complex(-0.5, -math.sqrt(3)/2) * C + complex(-0.5, math.sqrt(3)/2) * delta_0/C)\n",
    "\n",
    "print(f\"The roots of the cubic equation are:\")\n",
    "print(f\"x1 = {x1}\")\n",
    "print(f\"x2 = {x2}\")\n",
    "print(f\"x3 = {x3}\")"
   ]
  },
  {
   "cell_type": "code",
   "execution_count": 9,
   "id": "d2049481-99be-4de8-9ad6-925e5a4118bc",
   "metadata": {},
   "outputs": [
    {
     "name": "stdin",
     "output_type": "stream",
     "text": [
      "Enter your annual income: Rs 2000\n"
     ]
    },
    {
     "name": "stdout",
     "output_type": "stream",
     "text": [
      "Your income tax is: Rs200.0\n"
     ]
    }
   ],
   "source": [
    "tax_brackets = [(0, 10000), (10001, 40000), (40001, 80000), (80001, float('inf'))]\n",
    "tax_rates = [0.10, 0.20, 0.30, 0.40]\n",
    "\n",
    "income = float(input(\"Enter your annual income: Rs\"))\n",
    "\n",
    "tax = 0\n",
    "remaining_income = income\n",
    "\n",
    "for i, (lower_limit, upper_limit) in enumerate(tax_brackets):\n",
    "    if remaining_income <= 0:\n",
    "        break\n",
    "    taxable_amount = min(remaining_income, upper_limit - lower_limit)\n",
    "    tax += taxable_amount * tax_rates[i]\n",
    "    remaining_income -= taxable_amount\n",
    "\n",
    "print(f\"Your income tax is: Rs{tax}\")"
   ]
  },
  {
   "cell_type": "code",
   "execution_count": 2,
   "id": "eaa53844-536b-4aec-8d04-932b26b42827",
   "metadata": {},
   "outputs": [
    {
     "name": "stdout",
     "output_type": "stream",
     "text": [
      "Welcome to Rock-Paper-Scissors!\n",
      "Enter your choice: rock, paper, or scissors.\n"
     ]
    },
    {
     "name": "stdin",
     "output_type": "stream",
     "text": [
      "Your choice:  paper\n"
     ]
    },
    {
     "name": "stdout",
     "output_type": "stream",
     "text": [
      "Computer's choice: rock\n",
      "You win!\n"
     ]
    }
   ],
   "source": [
    "import random\n",
    "\n",
    "options = [\"rock\", \"paper\", \"scissors\"]\n",
    "\n",
    "def determine_winner(player_choice, computer_choice):\n",
    "    if player_choice == computer_choice:\n",
    "        return \"It's a tie!\"\n",
    "    elif (\n",
    "        (player_choice == \"rock\" and computer_choice == \"scissors\") or\n",
    "        (player_choice == \"scissors\" and computer_choice == \"paper\") or\n",
    "        (player_choice == \"paper\" and computer_choice == \"rock\")\n",
    "    ):\n",
    "        return \"You win!\"\n",
    "    else:\n",
    "        return \"Computer wins!\"\n",
    "\n",
    "print(\"Welcome to Rock-Paper-Scissors!\")\n",
    "print(\"Enter your choice: rock, paper, or scissors.\")\n",
    "\n",
    "player_choice = input(\"Your choice: \").lower()\n",
    "\n",
    "if player_choice not in options:\n",
    "    print(\"Invalid choice. Please choose rock, paper, or scissors.\")\n",
    "else:\n",
    "    computer_choice = random.choice(options)\n",
    "\n",
    "    print(f\"Computer's choice: {computer_choice}\")\n",
    "\n",
    "    result = determine_winner(player_choice, computer_choice)\n",
    "    print(result)"
   ]
  },
  {
   "cell_type": "code",
   "execution_count": 12,
   "id": "8c2fba60-53bf-46f0-a2cb-8c3bd28afabb",
   "metadata": {},
   "outputs": [
    {
     "name": "stdin",
     "output_type": "stream",
     "text": [
      "Enter the desired password length:  10\n",
      "Enter the complexity level ('low', 'medium', or 'high'):  low\n"
     ]
    },
    {
     "name": "stdout",
     "output_type": "stream",
     "text": [
      "Generated Password: sNCtYav7ip\n"
     ]
    }
   ],
   "source": [
    "import random\n",
    "import string\n",
    "\n",
    "def generate_password(length, complexity):\n",
    "    if complexity == \"low\":\n",
    "        characters = string.ascii_letters + string.digits\n",
    "    elif complexity == \"medium\":\n",
    "        characters = string.ascii_letters + string.digits + string.punctuation\n",
    "    elif complexity == \"high\":\n",
    "        characters = string.ascii_letters + string.digits + string.punctuation + string.whitespace\n",
    "    else:\n",
    "        return \"Invalid complexity level. Please choose 'low', 'medium', or 'high'.\"\n",
    "\n",
    "    password = ''.join(random.choice(characters) for _ in range(length))\n",
    "    return password\n",
    "\n",
    "length = int(input(\"Enter the desired password length: \"))\n",
    "complexity = input(\"Enter the complexity level ('low', 'medium', or 'high'): \").lower()\n",
    "\n",
    "password = generate_password(length, complexity)\n",
    "print(f\"Generated Password: {password}\")"
   ]
  },
  {
   "cell_type": "code",
   "execution_count": 1,
   "id": "8c7c5269-e2ad-4609-a9ea-d9a93b26b662",
   "metadata": {},
   "outputs": [
    {
     "name": "stdout",
     "output_type": "stream",
     "text": [
      "Welcome to the Text Adventure Game!\n",
      "You find yourself in a dark forest. You have no idea how you got here.\n",
      "You see two paths in front of you.\n"
     ]
    },
    {
     "name": "stdin",
     "output_type": "stream",
     "text": [
      "Which path will you take? Left or right?  left\n"
     ]
    },
    {
     "name": "stdout",
     "output_type": "stream",
     "text": [
      "You follow the left path and find a magical sword.\n",
      "As you continue your journey, you come across a river.\n"
     ]
    },
    {
     "name": "stdin",
     "output_type": "stream",
     "text": [
      "Do you swim across or look for a bridge?  right\n"
     ]
    },
    {
     "name": "stdout",
     "output_type": "stream",
     "text": [
      "You find a bridge, but it's guarded by trolls.\n",
      "You reach a castle, and the drawbridge is down.\n"
     ]
    },
    {
     "name": "stdin",
     "output_type": "stream",
     "text": [
      "Do you enter the castle or continue your adventure?  swim.\n"
     ]
    },
    {
     "name": "stdout",
     "output_type": "stream",
     "text": [
      "You continue your adventure, wondering what lies ahead.\n",
      "Congratulations! You've completed the Text Adventure Game.\n",
      "Thank you for playing!\n"
     ]
    }
   ],
   "source": [
    "import time\n",
    "\n",
    "def display_message(message, delay=1.5):\n",
    "    print(message)\n",
    "    time.sleep(delay)\n",
    "\n",
    "display_message(\"Welcome to the Text Adventure Game!\")\n",
    "display_message(\"You find yourself in a dark forest. You have no idea how you got here.\")\n",
    "\n",
    "display_message(\"You see two paths in front of you.\")\n",
    "choice = input(\"Which path will you take? Left or right? \").lower()\n",
    "\n",
    "if choice == \"left\":\n",
    "    display_message(\"You follow the left path and find a magical sword.\")\n",
    "else:\n",
    "    display_message(\"You take the right path and encounter a group of goblins.\")\n",
    "\n",
    "display_message(\"As you continue your journey, you come across a river.\")\n",
    "choice = input(\"Do you swim across or look for a bridge? \").lower()\n",
    "\n",
    "if choice == \"swim\":\n",
    "    display_message(\"You swim across the river successfully.\")\n",
    "else:\n",
    "    display_message(\"You find a bridge, but it's guarded by trolls.\")\n",
    "\n",
    "display_message(\"You reach a castle, and the drawbridge is down.\")\n",
    "choice = input(\"Do you enter the castle or continue your adventure? \").lower()\n",
    "\n",
    "if choice == \"enter\":\n",
    "    display_message(\"You enter the castle and find a treasure chest.\")\n",
    "else:\n",
    "    display_message(\"You continue your adventure, wondering what lies ahead.\")\n",
    "\n",
    "display_message(\"Congratulations! You've completed the Text Adventure Game.\")\n",
    "display_message(\"Thank you for playing!\")"
   ]
  },
  {
   "cell_type": "code",
   "execution_count": 2,
   "id": "2c6b0e00-a736-4889-bdb8-e6250ee48bd0",
   "metadata": {},
   "outputs": [
    {
     "name": "stdin",
     "output_type": "stream",
     "text": [
      "Enter the coefficient 'a':  10\n",
      "Enter the coefficient 'b':  20\n",
      "Enter the constant 'c':  15\n"
     ]
    },
    {
     "name": "stdout",
     "output_type": "stream",
     "text": [
      "The solution for x is: -0.5\n"
     ]
    }
   ],
   "source": [
    "a = int(input(\"Enter the coefficient 'a': \"))\n",
    "b = int(input(\"Enter the coefficient 'b': \"))\n",
    "c = int(input(\"Enter the constant 'c': \"))\n",
    "\n",
    "if a == 0:\n",
    "    if b == c:\n",
    "        print(\"The equation is satisfied for all values of x.\")\n",
    "    else:\n",
    "        print(\"The equation has no solution.\")\n",
    "else:\n",
    "    x = (c - b) / a\n",
    "    print(f\"The solution for x is: {x}\")"
   ]
  },
  {
   "cell_type": "code",
   "execution_count": 3,
   "id": "58b9c9f6-ec7f-43fb-9219-de3132103c32",
   "metadata": {},
   "outputs": [
    {
     "name": "stdout",
     "output_type": "stream",
     "text": [
      "What is the capital of France?\n",
      "a. London\n",
      "b. Berlin\n",
      "c. Paris\n"
     ]
    },
    {
     "name": "stdin",
     "output_type": "stream",
     "text": [
      "Your answer (a/b/c):  a\n"
     ]
    },
    {
     "name": "stdout",
     "output_type": "stream",
     "text": [
      "Incorrect!\n",
      "Which planet is known as the Red Planet?\n",
      "a. Mars\n",
      "b. Venus\n",
      "c. Jupiter\n"
     ]
    },
    {
     "name": "stdin",
     "output_type": "stream",
     "text": [
      "Your answer (a/b/c):  a\n"
     ]
    },
    {
     "name": "stdout",
     "output_type": "stream",
     "text": [
      "Correct!\n",
      "What is 2 + 2?\n",
      "a. 3\n",
      "b. 4\n",
      "c. 5\n"
     ]
    },
    {
     "name": "stdin",
     "output_type": "stream",
     "text": [
      "Your answer (a/b/c):  b\n"
     ]
    },
    {
     "name": "stdout",
     "output_type": "stream",
     "text": [
      "Correct!\n",
      "Your score: 2/3\n"
     ]
    }
   ],
   "source": [
    "questions = [\n",
    "    {\n",
    "        \"question\": \"What is the capital of France?\",\n",
    "        \"choices\": [\"a. London\", \"b. Berlin\", \"c. Paris\"],\n",
    "        \"answer\": \"c\"\n",
    "    },\n",
    "    {\n",
    "        \"question\": \"Which planet is known as the Red Planet?\",\n",
    "        \"choices\": [\"a. Mars\", \"b. Venus\", \"c. Jupiter\"],\n",
    "        \"answer\": \"a\"\n",
    "    },\n",
    "    {\n",
    "        \"question\": \"What is 2 + 2?\",\n",
    "        \"choices\": [\"a. 3\", \"b. 4\", \"c. 5\"],\n",
    "        \"answer\": \"b\"\n",
    "    }\n",
    "]\n",
    "\n",
    "score = 0\n",
    "\n",
    "def ask_question(question_dict):\n",
    "    print(question_dict[\"question\"])\n",
    "    for choice in question_dict[\"choices\"]:\n",
    "        print(choice)\n",
    "    user_answer = input(\"Your answer (a/b/c): \").lower()\n",
    "    return user_answer == question_dict[\"answer\"]\n",
    "\n",
    "for question in questions:\n",
    "    if ask_question(question):\n",
    "        print(\"Correct!\")\n",
    "        score += 1\n",
    "    else:\n",
    "        print(\"Incorrect!\")\n",
    "\n",
    "print(f\"Your score: {score}/{len(questions)}\")"
   ]
  },
  {
   "cell_type": "code",
   "execution_count": 1,
   "id": "4a701035-78be-463b-b3d6-a84b6e0a9bc4",
   "metadata": {},
   "outputs": [
    {
     "name": "stdin",
     "output_type": "stream",
     "text": [
      "Enter the number:  10\n"
     ]
    },
    {
     "name": "stdout",
     "output_type": "stream",
     "text": [
      "The Number is Not Prime\n"
     ]
    }
   ],
   "source": [
    "x=int(input(\"Enter the number: \"))\n",
    "if x==1:\n",
    "    print(\"The Number is Not Prime\")\n",
    "elif x>1:\n",
    "    for i in range (2,x):\n",
    "        if x%i==0:\n",
    "            print(\"The Number is Not Prime\")\n",
    "            break\n",
    "    else:\n",
    "        print(\"The Number is Prime\")"
   ]
  },
  {
   "cell_type": "code",
   "execution_count": 2,
   "id": "b6a43208-f992-4473-81f9-409e69d0422a",
   "metadata": {},
   "outputs": [
    {
     "name": "stdin",
     "output_type": "stream",
     "text": [
      "Enter the first number:  10\n",
      "Enter the second number:  15\n",
      "Enter the third number:  20\n"
     ]
    },
    {
     "name": "stdout",
     "output_type": "stream",
     "text": [
      "The sorted numbers in ascending order are: 10.0, 15.0, 20.0\n"
     ]
    }
   ],
   "source": [
    "\n",
    "num1 = float(input(\"Enter the first number: \"))\n",
    "num2 = float(input(\"Enter the second number: \"))\n",
    "num3 = float(input(\"Enter the third number: \"))\n",
    "\n",
    "min_num = num1\n",
    "mid_num = num2\n",
    "max_num = num3\n",
    "\n",
    "if num2 < num1 < num3:\n",
    "    min_num = num2\n",
    "    mid_num = num1\n",
    "    max_num = num3\n",
    "elif num3 < num1 < num2:\n",
    "    min_num = num3\n",
    "    mid_num = num1\n",
    "    max_num = num2\n",
    "elif num1 < num2 < num3:\n",
    "    min_num = num1\n",
    "    mid_num = num2\n",
    "    max_num = num3\n",
    "elif num3 < num2 < num1:\n",
    "    min_num = num3\n",
    "    mid_num = num2\n",
    "    max_num = num1\n",
    "elif num1 < num3 < num2:\n",
    "    min_num = num1\n",
    "    mid_num = num3\n",
    "    max_num = num2\n",
    "\n",
    "print(f\"The sorted numbers in ascending order are: {min_num}, {mid_num}, {max_num}\")\n"
   ]
  },
  {
   "cell_type": "code",
   "execution_count": 3,
   "id": "5d7ec3df-2dce-4a3a-ab25-aa5f3b6ea73b",
   "metadata": {},
   "outputs": [
    {
     "name": "stdin",
     "output_type": "stream",
     "text": [
      "Enter Your Weight:  50\n",
      "Enter your height:  140\n"
     ]
    },
    {
     "name": "stdout",
     "output_type": "stream",
     "text": [
      "You are underweight. It's important to maintain a balanced diet and consult a healthcare professional.\n",
      "Your BMI is 0.002551020408163265\n"
     ]
    }
   ],
   "source": [
    "weight=int(input(\"Enter Your Weight: \"))\n",
    "height=int(input(\"Enter your height: \"))\n",
    "\n",
    "BMI=weight / (height ** 2)\n",
    "\n",
    "if BMI<18.5:\n",
    "    print(\"You are underweight. It's important to maintain a balanced diet and consult a healthcare professional.\")\n",
    "elif 18.5 <= BMI < 24.9:\n",
    "    print(\"You have a healthy weight. Keep up the good work!\")\n",
    "elif 25 <= BMI < 29.9:\n",
    "    print(\"You are overweight. Consider a balanced diet and regular exercise.\")\n",
    "else:\n",
    "    print(\"You are obese. It's important to consult a healthcare professional and consider lifestyle changes.\")\n",
    "print(f\"Your BMI is {BMI}\")"
   ]
  },
  {
   "cell_type": "code",
   "execution_count": 5,
   "id": "f3fe025c-49de-41b5-ac2c-679acd95ea74",
   "metadata": {},
   "outputs": [
    {
     "name": "stdin",
     "output_type": "stream",
     "text": [
      "Enter the desired password length:  10\n",
      "Enter the complexity level ('low', 'medium', or 'high'):  medium\n"
     ]
    },
    {
     "name": "stdout",
     "output_type": "stream",
     "text": [
      "Generated Password: EvmVNitFYW\n"
     ]
    }
   ],
   "source": [
    "import random\n",
    "import string\n",
    "\n",
    "def generate_password(length, charceter):\n",
    "    if complexity == \"low\":\n",
    "        characters = string.ascii_letters + string.digits\n",
    "    elif complexity == \"medium\":\n",
    "        characters = string.ascii_letters + string.digits + string.punctuation\n",
    "    elif complexity == \"high\":\n",
    "        characters = string.ascii_letters + string.digits + string.punctuation + string.whitespace\n",
    "    else:\n",
    "        return \"Invalid complexity level. Please choose 'low', 'medium', or 'high'.\"\n",
    "\n",
    "    password = ''.join(random.choice(characters) for _ in range(length))\n",
    "    return password\n",
    "\n",
    "length = int(input(\"Enter the desired password length: \"))\n",
    "charceter = input(\"Enter the complexity level ('low', 'medium', or 'high'): \").lower()\n",
    "\n",
    "password = generate_password(length, charceter)\n",
    "print(f\"Generated Password: {password}\")\n"
   ]
  },
  {
   "cell_type": "code",
   "execution_count": 10,
   "id": "18922065-f5c5-4897-ac9a-31fb4b8d038f",
   "metadata": {},
   "outputs": [
    {
     "name": "stdin",
     "output_type": "stream",
     "text": [
      "Enter the number 10\n",
      "Enter the number 5\n"
     ]
    },
    {
     "name": "stdout",
     "output_type": "stream",
     "text": [
      "The GCD of a and b is: (5, 0)\n"
     ]
    }
   ],
   "source": [
    "def hcf(a,b):\n",
    "    if (b==0):\n",
    "        return a\n",
    "    else:\n",
    "        return (b,a%b)\n",
    "a=int(input(\"Enter the number\"))\n",
    "b=int(input(\"Enter the number\"))\n",
    "\n",
    "\n",
    "print(\"The GCD of a and b is: \", end=\"\")\n",
    "print(hcf(a,b))\n"
   ]
  },
  {
   "cell_type": "code",
   "execution_count": 1,
   "id": "03300c5c-bd0b-477f-a757-25dbb79a379f",
   "metadata": {},
   "outputs": [],
   "source": [
    "def fibo_number(n):\n",
    "    if n<=1:\n",
    "        return n\n",
    "    else:\n",
    "        return n + fibo_number(n-1)"
   ]
  },
  {
   "cell_type": "code",
   "execution_count": 2,
   "id": "ee4caf9f-3458-419e-8248-6daffd3f3d59",
   "metadata": {},
   "outputs": [
    {
     "data": {
      "text/plain": [
       "55"
      ]
     },
     "execution_count": 2,
     "metadata": {},
     "output_type": "execute_result"
    }
   ],
   "source": [
    "fibo_number(10)\n"
   ]
  },
  {
   "cell_type": "code",
   "execution_count": 17,
   "id": "a28f286e-766e-4940-b634-60408f9e1c6d",
   "metadata": {},
   "outputs": [
    {
     "name": "stdin",
     "output_type": "stream",
     "text": [
      "Please Enter a number:  5\n"
     ]
    },
    {
     "name": "stdout",
     "output_type": "stream",
     "text": [
      "The fibonacci number of the value 5 is [0, 1, 1, 2, 3]\n"
     ]
    }
   ],
   "source": [
    "def fib_num(m):\n",
    "    fib_seq=[0,1]\n",
    "    while len(fib_seq)< m:\n",
    "        next_number=fib_seq[-1]+fib_seq[-2]\n",
    "        fib_seq.append(next_number)\n",
    "    return fib_seq\n",
    "m=int(input(\"Please Enter a number: \"))\n",
    "if m<=0:\n",
    "    print(\"Pls enter a positive Number\")\n",
    "else:\n",
    "    fibonacci_num=fib_num(m)\n",
    "    print(f\"The fibonacci number of the value {m} is {fibonacci_num}\")"
   ]
  },
  {
   "cell_type": "code",
   "execution_count": null,
   "id": "d4366a7e-2bd8-416b-bd03-9c21ee3904c4",
   "metadata": {},
   "outputs": [],
   "source": []
  }
 ],
 "metadata": {
  "kernelspec": {
   "display_name": "Python 3 (ipykernel)",
   "language": "python",
   "name": "python3"
  },
  "language_info": {
   "codemirror_mode": {
    "name": "ipython",
    "version": 3
   },
   "file_extension": ".py",
   "mimetype": "text/x-python",
   "name": "python",
   "nbconvert_exporter": "python",
   "pygments_lexer": "ipython3",
   "version": "3.10.8"
  }
 },
 "nbformat": 4,
 "nbformat_minor": 5
}
