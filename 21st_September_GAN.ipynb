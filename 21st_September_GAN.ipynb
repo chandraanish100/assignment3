{
 "cells": [
  {
   "cell_type": "raw",
   "id": "dfff696d-e63b-46cd-948b-52be27b73555",
   "metadata": {},
   "source": [
    "T(n)=3T(n-1)+12n\n",
    "T(n)=3T(n-2)+12(n-1)+12n\n",
    "T(n)=3T(n-2)+12n-1+12n\n",
    "T(n)=3T(n-2)+24n-1\n",
    "T(2)=3T(2-2)+24*2-1\n",
    "T(2)=3T(0)+48-1\n",
    "T(2)=3*5+47\n",
    "T(2)=62\n"
   ]
  },
  {
   "cell_type": "raw",
   "id": "76cbb1a7-5839-47e9-8f43-e0dca3af2e26",
   "metadata": {},
   "source": [
    "T(n) = T(n-1) + c\n",
    "T(n) = T(n-2)+c+c\n",
    "T(n) = T(n-2)+2c\n",
    "T(n) = T(n-(n-1))+(n-1)c\n",
    "T(n) = T(1)+nc-c\n",
    "T(n) = O(n)\n",
    "\n"
   ]
  },
  {
   "cell_type": "markdown",
   "id": "e645a9ba-7ba2-44b6-accb-69f199cb3e8b",
   "metadata": {},
   "source": [
    "T(n) = 2T(n/2) + n\n",
    "T(n) = 2T(n/2^2) + (n-1)+n\n",
    "T(n) = 2T(n/2^3) + (n-2)+(n-1)+n\n",
    "T(n) = 2T(n/2^k) + (n-k)\n",
    "T(n) = 2T(n/2^(log(n/2))) + (n-log(n/2))\n",
    "T(n) = 2T(n/nlog(2/2)) + n-log(n/2)\n",
    "T(n) = 2T(1) + n-log(n/2)\n",
    "T(n) = O(log(n/2))"
   ]
  },
  {
   "cell_type": "raw",
   "id": "4501110f-0126-45ec-b018-203e586459f7",
   "metadata": {},
   "source": [
    "Step 1: Guess the form of the solution:\n",
    "Let's guess that the solution has the form T(n)=n⋅log(n/2).\n",
    "This is a common form for divide-and-conquer algorithms.\n",
    "\n",
    "Step 2: Verify the guess using induction:\n",
    "We need to show that T(n)=n⋅log(n/2) satisfies the recurrence relation.\n",
    "\n",
    "Base Case:\n",
    "T(1)=1.log(1/2)=0\n",
    "2T(1/2)+1=2.(0)+1=1\n",
    "The base case holds true.\n",
    "\n",
    "Inductive Step:\n",
    "Assume that T(k)=k.log(k/2) holds for all positive integers k<n.\n",
    "\n",
    "Now, let's prove that T(n)=n⋅log(n/2) holds for n.\n",
    "\n",
    "T(n)=2T(n/2)+n\n",
    "T(n)=2((n/2).log2(n/2)+n\n",
    "T(n)=n.log2(n/2)+n\n",
    "T(n)=n(log(n/2)-1)+n\n",
    "T(n)=n.log(n/2)\n",
    "T(n)=O(n.log(n/2))"
   ]
  },
  {
   "cell_type": "raw",
   "id": "ce316d16-79a2-44e1-8587-f9f0e17a547f",
   "metadata": {},
   "source": [
    "T(n)=2T(n/2)+c\n",
    "Let's assume that T(n)=a⋅n+b for some constants a and b.\n",
    "\n",
    "Now, substitute this guess into the recurrence relation:\n",
    "\n",
    "T(n)=2T(n/2)+c\n",
    "a⋅n+b=2(a.(n/2)+b)+c\n",
    "\n",
    "Simplify the equation:\n",
    "\n",
    "a⋅n+b=a⋅n+2b+c\n",
    "Now,subtract a⋅n+b from both sides: 0=b+c\n",
    "\n",
    "This implies that: b=−c.\n",
    "\n",
    "Now that we have determined b, we can write the solution for T(n):\n",
    "T(n)=a⋅n−c\n",
    "\n",
    "Now, we need to find the value of a. For that, we can use the initial condition. Let's assume T(1)=k for some constant k:\n",
    "T(1)=a⋅1−c=k\n",
    "So, a=k+c\n",
    "\n",
    "Therefore, the solution to the recurrence relation T(n)=2T(n/2)+c is:\n",
    "T(n)=(k+c)⋅n−c\n",
    "T(n)=O(n)\n",
    "\n",
    "where k is a constant determined by the initial condition."
   ]
  },
  {
   "cell_type": "markdown",
   "id": "51ebb0a7-1512-4ff8-80d1-e9a0eb1475fd",
   "metadata": {},
   "source": [
    "When,n=1 assume T(1)=constant(a)\n",
    "\n",
    "\n",
    "T(n) = T(n/2) + c\n",
    "T(n) = T(n/2^2)+2c\n",
    "T(n) = T(n/2^3)+3c\n",
    "T(n) = T(n/2^k)+kc\n",
    "T(n) = T(n/2^(log(n/2)))+log(n/2).c\n",
    "\n",
    "[ n/2^k=1 k=log(n/2) ]\n",
    "\n",
    "T(n) = T(n/n.log(2/2))+c.log(n/2)\n",
    "T(n) = T(1)+c.log(n/2)\n",
    "T(n) = a+c.log(n/2)\n",
    "T(n) = O(log(n/2))\n",
    "\n"
   ]
  },
  {
   "cell_type": "markdown",
   "id": "808e3635-6b9d-4cc1-88ff-4cc3cf6edc70",
   "metadata": {},
   "source": [
    "T(n) = 2T(n-1)+1\n",
    "0--- 2^0*1=1\n",
    "1--- 2^1*1=2\n",
    "2--- 2^2*1=4\n",
    "3--- 2^3*1=8\n",
    " \n",
    " (n-1) Times\n",
    "\n",
    "(n-1)--- 2^(n-1)*1=2*(n-1)\n",
    "\n",
    "T(n) = 1+2+3+...+2^(n-1)\n",
    "T(n) = 2^n-1\n",
    "T(n) = O(2^n)\n",
    "\n"
   ]
  },
  {
   "cell_type": "markdown",
   "id": "debce240-546f-435e-9242-e1576f9906f8",
   "metadata": {},
   "source": [
    "T(n) = 2T(n/2) + n\n",
    "T(n)=2T(n/4)+n+2(n/2)\n",
    "T(n)=2T(n/8)+n+2(n/2)+4(n/4)\n",
    "T(n)=n+2(n/2)+4(n/4)+8(n/8)+------+2^k(n/2^k)\n",
    "Where n=2^k = k=log(n/2)\n",
    "\n",
    "T(n) = n+n+n+n+----+n\n",
    "T(n) = nlog(n/2)\n",
    "T(n) = O(nlog(n/2))\n"
   ]
  }
 ],
 "metadata": {
  "kernelspec": {
   "display_name": "Python 3 (ipykernel)",
   "language": "python",
   "name": "python3"
  },
  "language_info": {
   "codemirror_mode": {
    "name": "ipython",
    "version": 3
   },
   "file_extension": ".py",
   "mimetype": "text/x-python",
   "name": "python",
   "nbconvert_exporter": "python",
   "pygments_lexer": "ipython3",
   "version": "3.10.8"
  }
 },
 "nbformat": 4,
 "nbformat_minor": 5
}
